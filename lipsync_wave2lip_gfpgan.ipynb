{
  "nbformat": 4,
  "nbformat_minor": 0,
  "metadata": {
    "colab": {
      "provenance": [],
      "toc_visible": true,
      "gpuType": "T4"
    },
    "kernelspec": {
      "name": "python3",
      "display_name": "Python 3"
    },
    "language_info": {
      "name": "python"
    },
    "accelerator": "GPU"
  },
  "cells": [
    {
      "cell_type": "markdown",
      "source": [
        "# clone the repositories in their respective folders"
      ],
      "metadata": {
        "id": "WY_iEvmXCibT"
      }
    },
    {
      "cell_type": "code",
      "execution_count": 1,
      "metadata": {
        "colab": {
          "base_uri": "https://localhost:8080/"
        },
        "id": "ywXBhtfW_wJD",
        "outputId": "84b49ece-82e2-4de2-aeb1-4c8b6dcaf086"
      },
      "outputs": [
        {
          "output_type": "stream",
          "name": "stdout",
          "text": [
            "Cloning into 'Wav2Lip-master'...\n",
            "remote: Enumerating objects: 369, done.\u001b[K\n",
            "remote: Counting objects: 100% (9/9), done.\u001b[K\n",
            "remote: Compressing objects: 100% (8/8), done.\u001b[K\n",
            "remote: Total 369 (delta 4), reused 2 (delta 1), pack-reused 360\u001b[K\n",
            "Receiving objects: 100% (369/369), 528.94 KiB | 4.20 MiB/s, done.\n",
            "Resolving deltas: 100% (202/202), done.\n",
            "Cloning into 'GFPGAN-master'...\n",
            "remote: Enumerating objects: 523, done.\u001b[K\n",
            "remote: Counting objects: 100% (523/523), done.\u001b[K\n",
            "remote: Compressing objects: 100% (223/223), done.\u001b[K\n",
            "remote: Total 523 (delta 279), reused 466 (delta 264), pack-reused 0\u001b[K\n",
            "Receiving objects: 100% (523/523), 5.37 MiB | 21.00 MiB/s, done.\n",
            "Resolving deltas: 100% (279/279), done.\n"
          ]
        }
      ],
      "source": [
        "!git clone https://github.com/Rudrabha/Wav2Lip.git Wav2Lip-master\n",
        "!git clone https://github.com/TencentARC/GFPGAN.git GFPGAN-master"
      ]
    },
    {
      "cell_type": "markdown",
      "source": [
        "# install the necessary dependencies."
      ],
      "metadata": {
        "id": "H5hExkGSCwAR"
      }
    },
    {
      "cell_type": "code",
      "source": [
        "wav2lipFolderName = 'Wav2Lip-master'\n",
        "gfpganFolderName = 'GFPGAN-master'\n",
        "gfpganPath = '/content/GFPGAN-master'\n",
        "wav2lipPath = '/content/Wav2Lip-master'\n",
        "\n",
        "!wget 'https://www.adrianbulat.com/downloads/python-fan/s3fd-619a316812.pth' -O {wav2lipPath}'/face_detection/detection/sfd/s3fd.pth'\n",
        "\n",
        "!wget 'https://iiitaphyd-my.sharepoint.com/personal/radrabha_m_research_iiit_ac_in/_layouts/15/download.aspx?share=EdjI7bZlgApMqsVoEUUXpLsBxqXbn5z8VTmoxp55YNDcIA' -O {wav2lipPath}'/checkpoints/wav2lip_gan.pth'\n",
        "#!wget 'https://iiitaphyd-my.sharepoint.com/:u:/g/personal/radrabha_m_research_iiit_ac_in/Eb3LEzbfuKlJiR600lQWRxgBIY27JZg80f7V9jtMfbNDaQ?e=TBFBVW' -O {wav2lipPath}'/checkpoints/wav2lip.pth'\n",
        "\n",
        "!gdown https://drive.google.com/uc?id=1fQtBSYEyuai9MjBOF8j7zZ4oQ9W2N64q --output {wav2lipPath}'/checkpoints/'\n",
        "\n",
        "!pip install -r requirements.txt\n",
        "!pip install -U librosa==0.8.1 # The process will fail without downgrading librosa\n",
        "!mkdir inputs\n",
        "\n",
        "!cd $gfpganFolderName && python setup.py develop\n",
        "!wget https://github.com/TencentARC/GFPGAN/releases/download/v1.3.0/GFPGANv1.3.pth -P {gfpganFolderName}'/experiments/pretrained_models'\n",
        "\n",
        "%cd {basePath}\n",
        "\n",
        "from IPython.display import clear_output\n",
        "clear_output()\n",
        "\n",
        "print(\"Installation complete.\")"
      ],
      "metadata": {
        "colab": {
          "base_uri": "https://localhost:8080/"
        },
        "id": "7-yUVLPyChcD",
        "outputId": "8120d28b-b6dc-4677-ec59-98fbf483bc28"
      },
      "execution_count": 2,
      "outputs": [
        {
          "output_type": "stream",
          "name": "stdout",
          "text": [
            "Installation complete.\n"
          ]
        }
      ]
    },
    {
      "cell_type": "markdown",
      "source": [
        "# using wave2lip sync the audio and video.\n",
        "Wav2Lip\tHighly accurate lip-sync\n",
        "\n",
        "Wav2Lip + GAN\tSlightly inferior lip-sync, but better visual quality"
      ],
      "metadata": {
        "id": "6WmuDj8fYmm_"
      }
    },
    {
      "cell_type": "code",
      "source": [
        "#@markdown Adjust the parameters below then run the code block to synthesize the speech onto your video file:\n",
        "basePath = '/content/'\n",
        "import os\n",
        "outputPath = basePath+'/outputs'\n",
        "inputAudio = 'input_audio.mp3' #@param{type:\"string\"}\n",
        "inputAudioPath = basePath + '/inputs/' + inputAudio\n",
        "inputVideo = 'pic.png' #@param{type:\"string\"}\n",
        "inputVideoPath = basePath + '/inputs/'+inputVideo\n",
        "lipSyncedOutputPath = basePath + '/outputs/result.mp4'\n",
        "model = \"wav2lip_gan\" #@param [\"wav2lip\", \"wav2lip_gan\"] {type:\"string\"}\n",
        "\n",
        "\n",
        "if not os.path.exists(outputPath):\n",
        "  os.makedirs(outputPath)\n",
        "\n",
        "from IPython.display import clear_output\n",
        "clear_output()\n",
        "\n",
        "!cd $wav2lipFolderName && python inference.py \\\n",
        "--checkpoint_path checkpoints/{model}.pth \\\n",
        "--face {inputVideoPath} \\\n",
        "--audio {inputAudioPath} \\\n",
        "--outfile {lipSyncedOutputPath}"
      ],
      "metadata": {
        "colab": {
          "base_uri": "https://localhost:8080/"
        },
        "id": "3IYf7Si0NPuc",
        "outputId": "efa82c84-7eff-4142-82bc-d2927715d67b"
      },
      "execution_count": 7,
      "outputs": [
        {
          "output_type": "stream",
          "name": "stdout",
          "text": [
            "Using cuda for inference.\n",
            "Number of frames available for inference: 1\n",
            "Extracting raw audio...\n",
            "ffmpeg version 4.4.2-0ubuntu0.22.04.1 Copyright (c) 2000-2021 the FFmpeg developers\n",
            "  built with gcc 11 (Ubuntu 11.2.0-19ubuntu1)\n",
            "  configuration: --prefix=/usr --extra-version=0ubuntu0.22.04.1 --toolchain=hardened --libdir=/usr/lib/x86_64-linux-gnu --incdir=/usr/include/x86_64-linux-gnu --arch=amd64 --enable-gpl --disable-stripping --enable-gnutls --enable-ladspa --enable-libaom --enable-libass --enable-libbluray --enable-libbs2b --enable-libcaca --enable-libcdio --enable-libcodec2 --enable-libdav1d --enable-libflite --enable-libfontconfig --enable-libfreetype --enable-libfribidi --enable-libgme --enable-libgsm --enable-libjack --enable-libmp3lame --enable-libmysofa --enable-libopenjpeg --enable-libopenmpt --enable-libopus --enable-libpulse --enable-librabbitmq --enable-librubberband --enable-libshine --enable-libsnappy --enable-libsoxr --enable-libspeex --enable-libsrt --enable-libssh --enable-libtheora --enable-libtwolame --enable-libvidstab --enable-libvorbis --enable-libvpx --enable-libwebp --enable-libx265 --enable-libxml2 --enable-libxvid --enable-libzimg --enable-libzmq --enable-libzvbi --enable-lv2 --enable-omx --enable-openal --enable-opencl --enable-opengl --enable-sdl2 --enable-pocketsphinx --enable-librsvg --enable-libmfx --enable-libdc1394 --enable-libdrm --enable-libiec61883 --enable-chromaprint --enable-frei0r --enable-libx264 --enable-shared\n",
            "  libavutil      56. 70.100 / 56. 70.100\n",
            "  libavcodec     58.134.100 / 58.134.100\n",
            "  libavformat    58. 76.100 / 58. 76.100\n",
            "  libavdevice    58. 13.100 / 58. 13.100\n",
            "  libavfilter     7.110.100 /  7.110.100\n",
            "  libswscale      5.  9.100 /  5.  9.100\n",
            "  libswresample   3.  9.100 /  3.  9.100\n",
            "  libpostproc    55.  9.100 / 55.  9.100\n",
            "Input #0, mp3, from '/content//inputs/input_audio.mp3':\n",
            "  Metadata:\n",
            "    encoder         : Lavf58.20.100\n",
            "  Duration: 00:00:23.09, start: 0.011995, bitrate: 96 kb/s\n",
            "  Stream #0:0: Audio: mp3, 44100 Hz, mono, fltp, 96 kb/s\n",
            "Stream mapping:\n",
            "  Stream #0:0 -> #0:0 (mp3 (mp3float) -> pcm_s16le (native))\n",
            "Press [q] to stop, [?] for help\n",
            "Output #0, wav, to 'temp/temp.wav':\n",
            "  Metadata:\n",
            "    ISFT            : Lavf58.76.100\n",
            "  Stream #0:0: Audio: pcm_s16le ([1][0][0][0] / 0x0001), 44100 Hz, mono, s16, 705 kb/s\n",
            "    Metadata:\n",
            "      encoder         : Lavc58.134.100 pcm_s16le\n",
            "size=    1988kB time=00:00:23.05 bitrate= 706.4kbits/s speed= 521x    \n",
            "video:0kB audio:1988kB subtitle:0kB other streams:0kB global headers:0kB muxing overhead: 0.003832%\n",
            "(80, 1847)\n",
            "Length of mel chunks: 574\n",
            "  0% 0/5 [00:00<?, ?it/s]\n",
            "  0% 0/1 [00:00<?, ?it/s]\u001b[A\n",
            "100% 1/1 [00:03<00:00,  3.87s/it]\n",
            "Load checkpoint from: checkpoints/wav2lip_gan.pth\n",
            "Model loaded\n",
            "100% 5/5 [00:25<00:00,  5.05s/it]\n",
            "ffmpeg version 4.4.2-0ubuntu0.22.04.1 Copyright (c) 2000-2021 the FFmpeg developers\n",
            "  built with gcc 11 (Ubuntu 11.2.0-19ubuntu1)\n",
            "  configuration: --prefix=/usr --extra-version=0ubuntu0.22.04.1 --toolchain=hardened --libdir=/usr/lib/x86_64-linux-gnu --incdir=/usr/include/x86_64-linux-gnu --arch=amd64 --enable-gpl --disable-stripping --enable-gnutls --enable-ladspa --enable-libaom --enable-libass --enable-libbluray --enable-libbs2b --enable-libcaca --enable-libcdio --enable-libcodec2 --enable-libdav1d --enable-libflite --enable-libfontconfig --enable-libfreetype --enable-libfribidi --enable-libgme --enable-libgsm --enable-libjack --enable-libmp3lame --enable-libmysofa --enable-libopenjpeg --enable-libopenmpt --enable-libopus --enable-libpulse --enable-librabbitmq --enable-librubberband --enable-libshine --enable-libsnappy --enable-libsoxr --enable-libspeex --enable-libsrt --enable-libssh --enable-libtheora --enable-libtwolame --enable-libvidstab --enable-libvorbis --enable-libvpx --enable-libwebp --enable-libx265 --enable-libxml2 --enable-libxvid --enable-libzimg --enable-libzmq --enable-libzvbi --enable-lv2 --enable-omx --enable-openal --enable-opencl --enable-opengl --enable-sdl2 --enable-pocketsphinx --enable-librsvg --enable-libmfx --enable-libdc1394 --enable-libdrm --enable-libiec61883 --enable-chromaprint --enable-frei0r --enable-libx264 --enable-shared\n",
            "  libavutil      56. 70.100 / 56. 70.100\n",
            "  libavcodec     58.134.100 / 58.134.100\n",
            "  libavformat    58. 76.100 / 58. 76.100\n",
            "  libavdevice    58. 13.100 / 58. 13.100\n",
            "  libavfilter     7.110.100 /  7.110.100\n",
            "  libswscale      5.  9.100 /  5.  9.100\n",
            "  libswresample   3.  9.100 /  3.  9.100\n",
            "  libpostproc    55.  9.100 / 55.  9.100\n",
            "\u001b[0;33mGuessed Channel Layout for Input Stream #0.0 : mono\n",
            "\u001b[0mInput #0, wav, from 'temp/temp.wav':\n",
            "  Metadata:\n",
            "    encoder         : Lavf58.76.100\n",
            "  Duration: 00:00:23.08, bitrate: 705 kb/s\n",
            "  Stream #0:0: Audio: pcm_s16le ([1][0][0][0] / 0x0001), 44100 Hz, mono, s16, 705 kb/s\n",
            "Input #1, avi, from 'temp/result.avi':\n",
            "  Metadata:\n",
            "    software        : Lavf59.27.100\n",
            "  Duration: 00:00:22.96, start: 0.000000, bitrate: 784 kb/s\n",
            "  Stream #1:0: Video: mpeg4 (Simple Profile) (DIVX / 0x58564944), yuv420p, 1280x640 [SAR 1:1 DAR 2:1], 779 kb/s, 25 fps, 25 tbr, 25 tbn, 25 tbc\n",
            "Stream mapping:\n",
            "  Stream #1:0 -> #0:0 (mpeg4 (native) -> h264 (libx264))\n",
            "  Stream #0:0 -> #0:1 (pcm_s16le (native) -> aac (native))\n",
            "Press [q] to stop, [?] for help\n",
            "\u001b[1;36m[libx264 @ 0x5aeeb24faa80] \u001b[0m\u001b[0;33m-qscale is ignored, -crf is recommended.\n",
            "\u001b[0m\u001b[1;36m[libx264 @ 0x5aeeb24faa80] \u001b[0musing SAR=1/1\n",
            "\u001b[1;36m[libx264 @ 0x5aeeb24faa80] \u001b[0musing cpu capabilities: MMX2 SSE2Fast SSSE3 SSE4.2 AVX FMA3 BMI2 AVX2\n",
            "\u001b[1;36m[libx264 @ 0x5aeeb24faa80] \u001b[0mprofile High, level 3.1, 4:2:0, 8-bit\n",
            "\u001b[1;36m[libx264 @ 0x5aeeb24faa80] \u001b[0m264 - core 163 r3060 5db6aa6 - H.264/MPEG-4 AVC codec - Copyleft 2003-2021 - http://www.videolan.org/x264.html - options: cabac=1 ref=3 deblock=1:0:0 analyse=0x3:0x113 me=hex subme=7 psy=1 psy_rd=1.00:0.00 mixed_ref=1 me_range=16 chroma_me=1 trellis=1 8x8dct=1 cqm=0 deadzone=21,11 fast_pskip=1 chroma_qp_offset=-2 threads=3 lookahead_threads=1 sliced_threads=0 nr=0 decimate=1 interlaced=0 bluray_compat=0 constrained_intra=0 bframes=3 b_pyramid=2 b_adapt=1 b_bias=0 direct=1 weightb=1 open_gop=0 weightp=2 keyint=250 keyint_min=25 scenecut=40 intra_refresh=0 rc_lookahead=40 rc=crf mbtree=1 crf=23.0 qcomp=0.60 qpmin=0 qpmax=69 qpstep=4 ip_ratio=1.40 aq=1:1.00\n",
            "Output #0, mp4, to '/content//outputs/result.mp4':\n",
            "  Metadata:\n",
            "    encoder         : Lavf58.76.100\n",
            "  Stream #0:0: Video: h264 (avc1 / 0x31637661), yuv420p(progressive), 1280x640 [SAR 1:1 DAR 2:1], q=2-31, 25 fps, 12800 tbn\n",
            "    Metadata:\n",
            "      encoder         : Lavc58.134.100 libx264\n",
            "    Side data:\n",
            "      cpb: bitrate max/min/avg: 0/0/0 buffer size: 0 vbv_delay: N/A\n",
            "  Stream #0:1: Audio: aac (LC) (mp4a / 0x6134706D), 44100 Hz, mono, fltp, 69 kb/s\n",
            "    Metadata:\n",
            "      encoder         : Lavc58.134.100 aac\n",
            "frame=  574 fps= 87 q=-1.0 Lsize=     524kB time=00:00:23.05 bitrate= 186.1kbits/s speed=3.48x    \n",
            "video:308kB audio:196kB subtitle:0kB other streams:0kB global headers:0kB muxing overhead: 4.014396%\n",
            "\u001b[1;36m[libx264 @ 0x5aeeb24faa80] \u001b[0mframe I:3     Avg QP:11.91  size: 35139\n",
            "\u001b[1;36m[libx264 @ 0x5aeeb24faa80] \u001b[0mframe P:148   Avg QP:17.26  size:   755\n",
            "\u001b[1;36m[libx264 @ 0x5aeeb24faa80] \u001b[0mframe B:423   Avg QP:22.19  size:   230\n",
            "\u001b[1;36m[libx264 @ 0x5aeeb24faa80] \u001b[0mconsecutive B-frames:  1.2%  1.0%  1.6% 96.2%\n",
            "\u001b[1;36m[libx264 @ 0x5aeeb24faa80] \u001b[0mmb I  I16..4: 37.5% 57.8%  4.7%\n",
            "\u001b[1;36m[libx264 @ 0x5aeeb24faa80] \u001b[0mmb P  I16..4:  0.1%  0.4%  0.0%  P16..4:  2.3%  0.9%  0.5%  0.0%  0.0%    skip:95.9%\n",
            "\u001b[1;36m[libx264 @ 0x5aeeb24faa80] \u001b[0mmb B  I16..4:  0.0%  0.1%  0.0%  B16..8:  2.4%  0.2%  0.0%  direct: 0.1%  skip:97.3%  L0:55.4% L1:41.9% BI: 2.7%\n",
            "\u001b[1;36m[libx264 @ 0x5aeeb24faa80] \u001b[0m8x8 transform intra:64.2% inter:93.7%\n",
            "\u001b[1;36m[libx264 @ 0x5aeeb24faa80] \u001b[0mcoded y,uvDC,uvAC intra: 32.0% 32.0% 10.5% inter: 0.5% 0.5% 0.0%\n",
            "\u001b[1;36m[libx264 @ 0x5aeeb24faa80] \u001b[0mi16 v,h,dc,p: 68% 14% 16%  2%\n",
            "\u001b[1;36m[libx264 @ 0x5aeeb24faa80] \u001b[0mi8 v,h,dc,ddl,ddr,vr,hd,vl,hu: 27% 19% 38%  2%  2%  2%  3%  3%  3%\n",
            "\u001b[1;36m[libx264 @ 0x5aeeb24faa80] \u001b[0mi4 v,h,dc,ddl,ddr,vr,hd,vl,hu: 46% 32% 10%  2%  2%  3%  1%  2%  2%\n",
            "\u001b[1;36m[libx264 @ 0x5aeeb24faa80] \u001b[0mi8c dc,h,v,p: 59% 18% 19%  4%\n",
            "\u001b[1;36m[libx264 @ 0x5aeeb24faa80] \u001b[0mWeighted P-Frames: Y:0.0% UV:0.0%\n",
            "\u001b[1;36m[libx264 @ 0x5aeeb24faa80] \u001b[0mref P L0: 55.4% 10.1% 22.8% 11.6%\n",
            "\u001b[1;36m[libx264 @ 0x5aeeb24faa80] \u001b[0mref B L0: 68.7% 26.2%  5.2%\n",
            "\u001b[1;36m[libx264 @ 0x5aeeb24faa80] \u001b[0mref B L1: 95.3%  4.7%\n",
            "\u001b[1;36m[libx264 @ 0x5aeeb24faa80] \u001b[0mkb/s:109.52\n",
            "\u001b[1;36m[aac @ 0x5aeeb24fca00] \u001b[0mQavg: 115.336\n"
          ]
        }
      ]
    },
    {
      "cell_type": "markdown",
      "source": [
        "# Enhance the video with GFPGAN"
      ],
      "metadata": {
        "id": "nWwx0YmIp1KU"
      }
    },
    {
      "cell_type": "code",
      "source": [
        "import cv2\n",
        "from tqdm import tqdm\n",
        "from os import path\n",
        "\n",
        "import os\n",
        "\n",
        "inputVideoPath = outputPath+'/result.mp4'\n",
        "unProcessedFramesFolderPath = outputPath+'/frames'\n",
        "\n",
        "if not os.path.exists(unProcessedFramesFolderPath):\n",
        "  os.makedirs(unProcessedFramesFolderPath)\n",
        "\n",
        "vidcap = cv2.VideoCapture(inputVideoPath)\n",
        "numberOfFrames = int(vidcap.get(cv2.CAP_PROP_FRAME_COUNT))\n",
        "fps = vidcap.get(cv2.CAP_PROP_FPS)\n",
        "print(\"FPS: \", fps, \"Frames: \", numberOfFrames)\n",
        "\n",
        "for frameNumber in tqdm(range(numberOfFrames)):\n",
        "    _,image = vidcap.read()\n",
        "    cv2.imwrite(path.join(unProcessedFramesFolderPath, str(frameNumber).zfill(4)+'.jpg'), image)\n",
        "\n",
        "!cd $gfpganFolderName && \\\n",
        "  python inference_gfpgan.py -i $unProcessedFramesFolderPath -o $outputPath -v 1.3 -s 2 --only_center_face --bg_upsampler None\n",
        "\n",
        "import os\n",
        "restoredFramesPath = outputPath + '/restored_imgs/'\n",
        "processedVideoOutputPath = outputPath\n",
        "\n",
        "dir_list = os.listdir(restoredFramesPath)\n",
        "dir_list.sort()\n",
        "\n",
        "import cv2\n",
        "import numpy as np\n",
        "\n",
        "#Get FPS of original video for writer\n",
        "inputVideoPath = outputPath+'/result.mp4'\n",
        "vidcap = cv2.VideoCapture(inputVideoPath)\n",
        "fps = vidcap.get(cv2.CAP_PROP_FPS)\n",
        "print(\"The video is \"+str(fps)+\" FPS.\")\n",
        "\n",
        "batch = 0\n",
        "batchSize = 1300\n",
        "from tqdm import tqdm\n",
        "for i in tqdm(range(0, len(dir_list), batchSize)):\n",
        "  img_array = []\n",
        "  start, end = i, i+batchSize\n",
        "  print(\"processing \", start, end, end=\"\\r\")\n",
        "  for filename in  tqdm(dir_list[start:end]):\n",
        "      filename = restoredFramesPath+filename;\n",
        "      img = cv2.imread(filename)\n",
        "      if img is None:\n",
        "        continue\n",
        "      height, width, layers = img.shape\n",
        "      size = (width,height)\n",
        "      img_array.append(img)\n",
        "      print(\"Video video writer\")\n",
        "  out = cv2.VideoWriter(processedVideoOutputPath+'/output_'+str(batch).zfill(4)+'.mp4',cv2.VideoWriter_fourcc(*'DIVX'), fps, size)\n",
        "  batch = batch + 1\n",
        "\n",
        "  for i in range(len(img_array)):\n",
        "    out.write(img_array[i])\n",
        "  out.release()\n",
        "  print(\"Video upscaling complete.\")"
      ],
      "metadata": {
        "colab": {
          "base_uri": "https://localhost:8080/"
        },
        "id": "CaHUsKFviTXJ",
        "outputId": "cafd6eb2-c25b-423f-dac9-4f0b936d41e6"
      },
      "execution_count": 8,
      "outputs": [
        {
          "output_type": "stream",
          "name": "stdout",
          "text": [
            "FPS:  25.0 Frames:  574\n"
          ]
        },
        {
          "output_type": "stream",
          "name": "stderr",
          "text": [
            "100%|██████████| 574/574 [00:08<00:00, 66.82it/s]\n"
          ]
        },
        {
          "output_type": "stream",
          "name": "stdout",
          "text": [
            "/usr/local/lib/python3.10/dist-packages/torchvision/transforms/functional_tensor.py:5: UserWarning: The torchvision.transforms.functional_tensor module is deprecated in 0.15 and will be **removed in 0.17**. Please don't rely on it. You probably just need to use APIs in torchvision.transforms.functional or in torchvision.transforms.v2.functional.\n",
            "  warnings.warn(\n",
            "/usr/local/lib/python3.10/dist-packages/torchvision/models/_utils.py:208: UserWarning: The parameter 'pretrained' is deprecated since 0.13 and may be removed in the future, please use 'weights' instead.\n",
            "  warnings.warn(\n",
            "/usr/local/lib/python3.10/dist-packages/torchvision/models/_utils.py:223: UserWarning: Arguments other than a weight enum or `None` for 'weights' are deprecated since 0.13 and may be removed in the future. The current behavior is equivalent to passing `weights=None`.\n",
            "  warnings.warn(msg)\n",
            "Processing 0000.jpg ...\n",
            "Processing 0001.jpg ...\n",
            "Processing 0002.jpg ...\n",
            "Processing 0003.jpg ...\n",
            "Processing 0004.jpg ...\n",
            "Processing 0005.jpg ...\n",
            "Processing 0006.jpg ...\n",
            "Processing 0007.jpg ...\n",
            "Processing 0008.jpg ...\n",
            "Processing 0009.jpg ...\n",
            "Processing 0010.jpg ...\n",
            "Processing 0011.jpg ...\n",
            "Processing 0012.jpg ...\n",
            "Processing 0013.jpg ...\n",
            "Processing 0014.jpg ...\n",
            "Processing 0015.jpg ...\n",
            "Processing 0016.jpg ...\n",
            "Processing 0017.jpg ...\n",
            "Processing 0018.jpg ...\n",
            "Processing 0019.jpg ...\n",
            "Processing 0020.jpg ...\n",
            "Processing 0021.jpg ...\n",
            "Processing 0022.jpg ...\n",
            "Processing 0023.jpg ...\n",
            "Processing 0024.jpg ...\n",
            "Processing 0025.jpg ...\n",
            "Processing 0026.jpg ...\n",
            "Processing 0027.jpg ...\n",
            "Processing 0028.jpg ...\n",
            "Processing 0029.jpg ...\n",
            "Processing 0030.jpg ...\n",
            "Processing 0031.jpg ...\n",
            "Processing 0032.jpg ...\n",
            "Processing 0033.jpg ...\n",
            "Processing 0034.jpg ...\n",
            "Processing 0035.jpg ...\n",
            "Processing 0036.jpg ...\n",
            "Processing 0037.jpg ...\n",
            "Processing 0038.jpg ...\n",
            "Processing 0039.jpg ...\n",
            "Processing 0040.jpg ...\n",
            "Processing 0041.jpg ...\n",
            "Processing 0042.jpg ...\n",
            "Processing 0043.jpg ...\n",
            "Processing 0044.jpg ...\n",
            "Processing 0045.jpg ...\n",
            "Processing 0046.jpg ...\n",
            "Processing 0047.jpg ...\n",
            "Processing 0048.jpg ...\n",
            "Processing 0049.jpg ...\n",
            "Processing 0050.jpg ...\n",
            "Processing 0051.jpg ...\n",
            "Processing 0052.jpg ...\n",
            "Processing 0053.jpg ...\n",
            "Processing 0054.jpg ...\n",
            "Processing 0055.jpg ...\n",
            "Processing 0056.jpg ...\n",
            "Processing 0057.jpg ...\n",
            "Processing 0058.jpg ...\n",
            "Processing 0059.jpg ...\n",
            "Processing 0060.jpg ...\n",
            "Processing 0061.jpg ...\n",
            "Processing 0062.jpg ...\n",
            "Processing 0063.jpg ...\n",
            "Processing 0064.jpg ...\n",
            "Processing 0065.jpg ...\n",
            "Processing 0066.jpg ...\n",
            "Processing 0067.jpg ...\n",
            "Processing 0068.jpg ...\n",
            "Processing 0069.jpg ...\n",
            "Processing 0070.jpg ...\n",
            "Processing 0071.jpg ...\n",
            "Processing 0072.jpg ...\n",
            "Processing 0073.jpg ...\n",
            "Processing 0074.jpg ...\n",
            "Processing 0075.jpg ...\n",
            "Processing 0076.jpg ...\n",
            "Processing 0077.jpg ...\n",
            "Processing 0078.jpg ...\n",
            "Processing 0079.jpg ...\n",
            "Processing 0080.jpg ...\n",
            "Processing 0081.jpg ...\n",
            "Processing 0082.jpg ...\n",
            "Processing 0083.jpg ...\n",
            "Processing 0084.jpg ...\n",
            "Processing 0085.jpg ...\n",
            "Processing 0086.jpg ...\n",
            "Processing 0087.jpg ...\n",
            "Processing 0088.jpg ...\n",
            "Processing 0089.jpg ...\n",
            "Processing 0090.jpg ...\n",
            "Processing 0091.jpg ...\n",
            "Processing 0092.jpg ...\n",
            "Processing 0093.jpg ...\n",
            "Processing 0094.jpg ...\n",
            "Processing 0095.jpg ...\n",
            "Processing 0096.jpg ...\n",
            "Processing 0097.jpg ...\n",
            "Processing 0098.jpg ...\n",
            "Processing 0099.jpg ...\n",
            "Processing 0100.jpg ...\n",
            "Processing 0101.jpg ...\n",
            "Processing 0102.jpg ...\n",
            "Processing 0103.jpg ...\n",
            "Processing 0104.jpg ...\n",
            "Processing 0105.jpg ...\n",
            "Processing 0106.jpg ...\n",
            "Processing 0107.jpg ...\n",
            "Processing 0108.jpg ...\n",
            "Processing 0109.jpg ...\n",
            "Processing 0110.jpg ...\n",
            "Processing 0111.jpg ...\n",
            "Processing 0112.jpg ...\n",
            "Processing 0113.jpg ...\n",
            "Processing 0114.jpg ...\n",
            "Processing 0115.jpg ...\n",
            "Processing 0116.jpg ...\n",
            "Processing 0117.jpg ...\n",
            "Processing 0118.jpg ...\n",
            "Processing 0119.jpg ...\n",
            "Processing 0120.jpg ...\n",
            "Processing 0121.jpg ...\n",
            "Processing 0122.jpg ...\n",
            "Processing 0123.jpg ...\n",
            "Processing 0124.jpg ...\n",
            "Processing 0125.jpg ...\n",
            "Processing 0126.jpg ...\n",
            "Processing 0127.jpg ...\n",
            "Processing 0128.jpg ...\n",
            "Processing 0129.jpg ...\n",
            "Processing 0130.jpg ...\n",
            "Processing 0131.jpg ...\n",
            "Processing 0132.jpg ...\n",
            "Processing 0133.jpg ...\n",
            "Processing 0134.jpg ...\n",
            "Processing 0135.jpg ...\n",
            "Processing 0136.jpg ...\n",
            "Processing 0137.jpg ...\n",
            "Processing 0138.jpg ...\n",
            "Processing 0139.jpg ...\n",
            "Processing 0140.jpg ...\n",
            "Processing 0141.jpg ...\n",
            "Processing 0142.jpg ...\n",
            "Processing 0143.jpg ...\n",
            "Processing 0144.jpg ...\n",
            "Processing 0145.jpg ...\n",
            "Processing 0146.jpg ...\n",
            "Processing 0147.jpg ...\n",
            "Processing 0148.jpg ...\n",
            "Processing 0149.jpg ...\n",
            "Processing 0150.jpg ...\n",
            "Processing 0151.jpg ...\n",
            "Processing 0152.jpg ...\n",
            "Processing 0153.jpg ...\n",
            "Processing 0154.jpg ...\n",
            "Processing 0155.jpg ...\n",
            "Processing 0156.jpg ...\n",
            "Processing 0157.jpg ...\n",
            "Processing 0158.jpg ...\n",
            "Processing 0159.jpg ...\n",
            "Processing 0160.jpg ...\n",
            "Processing 0161.jpg ...\n",
            "Processing 0162.jpg ...\n",
            "Processing 0163.jpg ...\n",
            "Processing 0164.jpg ...\n",
            "Processing 0165.jpg ...\n",
            "Processing 0166.jpg ...\n",
            "Processing 0167.jpg ...\n",
            "Processing 0168.jpg ...\n",
            "Processing 0169.jpg ...\n",
            "Processing 0170.jpg ...\n",
            "Processing 0171.jpg ...\n",
            "Processing 0172.jpg ...\n",
            "Processing 0173.jpg ...\n",
            "Processing 0174.jpg ...\n",
            "Processing 0175.jpg ...\n",
            "Processing 0176.jpg ...\n",
            "Processing 0177.jpg ...\n",
            "Processing 0178.jpg ...\n",
            "Processing 0179.jpg ...\n",
            "Processing 0180.jpg ...\n",
            "Processing 0181.jpg ...\n",
            "Processing 0182.jpg ...\n",
            "Processing 0183.jpg ...\n",
            "Processing 0184.jpg ...\n",
            "Processing 0185.jpg ...\n",
            "Processing 0186.jpg ...\n",
            "Processing 0187.jpg ...\n",
            "Processing 0188.jpg ...\n",
            "Processing 0189.jpg ...\n",
            "Processing 0190.jpg ...\n",
            "Processing 0191.jpg ...\n",
            "Processing 0192.jpg ...\n",
            "Processing 0193.jpg ...\n",
            "Processing 0194.jpg ...\n",
            "Processing 0195.jpg ...\n",
            "Processing 0196.jpg ...\n",
            "Processing 0197.jpg ...\n",
            "Processing 0198.jpg ...\n",
            "Processing 0199.jpg ...\n",
            "Processing 0200.jpg ...\n",
            "Processing 0201.jpg ...\n",
            "Processing 0202.jpg ...\n",
            "Processing 0203.jpg ...\n",
            "Processing 0204.jpg ...\n",
            "Processing 0205.jpg ...\n",
            "Processing 0206.jpg ...\n",
            "Processing 0207.jpg ...\n",
            "Processing 0208.jpg ...\n",
            "Processing 0209.jpg ...\n",
            "Processing 0210.jpg ...\n",
            "Processing 0211.jpg ...\n",
            "Processing 0212.jpg ...\n",
            "Processing 0213.jpg ...\n",
            "Processing 0214.jpg ...\n",
            "Processing 0215.jpg ...\n",
            "Processing 0216.jpg ...\n",
            "Processing 0217.jpg ...\n",
            "Processing 0218.jpg ...\n",
            "Processing 0219.jpg ...\n",
            "Processing 0220.jpg ...\n",
            "Processing 0221.jpg ...\n",
            "Processing 0222.jpg ...\n",
            "Processing 0223.jpg ...\n",
            "Processing 0224.jpg ...\n",
            "Processing 0225.jpg ...\n",
            "Processing 0226.jpg ...\n",
            "Processing 0227.jpg ...\n",
            "Processing 0228.jpg ...\n",
            "Processing 0229.jpg ...\n",
            "Processing 0230.jpg ...\n",
            "Processing 0231.jpg ...\n",
            "Processing 0232.jpg ...\n",
            "Processing 0233.jpg ...\n",
            "Processing 0234.jpg ...\n",
            "Processing 0235.jpg ...\n",
            "Processing 0236.jpg ...\n",
            "Processing 0237.jpg ...\n",
            "Processing 0238.jpg ...\n",
            "Processing 0239.jpg ...\n",
            "Processing 0240.jpg ...\n",
            "Processing 0241.jpg ...\n",
            "Processing 0242.jpg ...\n",
            "Processing 0243.jpg ...\n",
            "Processing 0244.jpg ...\n",
            "Processing 0245.jpg ...\n",
            "Processing 0246.jpg ...\n",
            "Processing 0247.jpg ...\n",
            "Processing 0248.jpg ...\n",
            "Processing 0249.jpg ...\n",
            "Processing 0250.jpg ...\n",
            "Processing 0251.jpg ...\n",
            "Processing 0252.jpg ...\n",
            "Processing 0253.jpg ...\n",
            "Processing 0254.jpg ...\n",
            "Processing 0255.jpg ...\n",
            "Processing 0256.jpg ...\n",
            "Processing 0257.jpg ...\n",
            "Processing 0258.jpg ...\n",
            "Processing 0259.jpg ...\n",
            "Processing 0260.jpg ...\n",
            "Processing 0261.jpg ...\n",
            "Processing 0262.jpg ...\n",
            "Processing 0263.jpg ...\n",
            "Processing 0264.jpg ...\n",
            "Processing 0265.jpg ...\n",
            "Processing 0266.jpg ...\n",
            "Processing 0267.jpg ...\n",
            "Processing 0268.jpg ...\n",
            "Processing 0269.jpg ...\n",
            "Processing 0270.jpg ...\n",
            "Processing 0271.jpg ...\n",
            "Processing 0272.jpg ...\n",
            "Processing 0273.jpg ...\n",
            "Processing 0274.jpg ...\n",
            "Processing 0275.jpg ...\n",
            "Processing 0276.jpg ...\n",
            "Processing 0277.jpg ...\n",
            "Processing 0278.jpg ...\n",
            "Processing 0279.jpg ...\n",
            "Processing 0280.jpg ...\n",
            "Processing 0281.jpg ...\n",
            "Processing 0282.jpg ...\n",
            "Processing 0283.jpg ...\n",
            "Processing 0284.jpg ...\n",
            "Processing 0285.jpg ...\n",
            "Processing 0286.jpg ...\n",
            "Processing 0287.jpg ...\n",
            "Processing 0288.jpg ...\n",
            "Processing 0289.jpg ...\n",
            "Processing 0290.jpg ...\n",
            "Processing 0291.jpg ...\n",
            "Processing 0292.jpg ...\n",
            "Processing 0293.jpg ...\n",
            "Processing 0294.jpg ...\n",
            "Processing 0295.jpg ...\n",
            "Processing 0296.jpg ...\n",
            "Processing 0297.jpg ...\n",
            "Processing 0298.jpg ...\n",
            "Processing 0299.jpg ...\n",
            "Processing 0300.jpg ...\n",
            "Processing 0301.jpg ...\n",
            "Processing 0302.jpg ...\n",
            "Processing 0303.jpg ...\n",
            "Processing 0304.jpg ...\n",
            "Processing 0305.jpg ...\n",
            "Processing 0306.jpg ...\n",
            "Processing 0307.jpg ...\n",
            "Processing 0308.jpg ...\n",
            "Processing 0309.jpg ...\n",
            "Processing 0310.jpg ...\n",
            "Processing 0311.jpg ...\n",
            "Processing 0312.jpg ...\n",
            "Processing 0313.jpg ...\n",
            "Processing 0314.jpg ...\n",
            "Processing 0315.jpg ...\n",
            "Processing 0316.jpg ...\n",
            "Processing 0317.jpg ...\n",
            "Processing 0318.jpg ...\n",
            "Processing 0319.jpg ...\n",
            "Processing 0320.jpg ...\n",
            "Processing 0321.jpg ...\n",
            "Processing 0322.jpg ...\n",
            "Processing 0323.jpg ...\n",
            "Processing 0324.jpg ...\n",
            "Processing 0325.jpg ...\n",
            "Processing 0326.jpg ...\n",
            "Processing 0327.jpg ...\n",
            "Processing 0328.jpg ...\n",
            "Processing 0329.jpg ...\n",
            "Processing 0330.jpg ...\n",
            "Processing 0331.jpg ...\n",
            "Processing 0332.jpg ...\n",
            "Processing 0333.jpg ...\n",
            "Processing 0334.jpg ...\n",
            "Processing 0335.jpg ...\n",
            "Processing 0336.jpg ...\n",
            "Processing 0337.jpg ...\n",
            "Processing 0338.jpg ...\n",
            "Processing 0339.jpg ...\n",
            "Processing 0340.jpg ...\n",
            "Processing 0341.jpg ...\n",
            "Processing 0342.jpg ...\n",
            "Processing 0343.jpg ...\n",
            "Processing 0344.jpg ...\n",
            "Processing 0345.jpg ...\n",
            "Processing 0346.jpg ...\n",
            "Processing 0347.jpg ...\n",
            "Processing 0348.jpg ...\n",
            "Processing 0349.jpg ...\n",
            "Processing 0350.jpg ...\n",
            "Processing 0351.jpg ...\n",
            "Processing 0352.jpg ...\n",
            "Processing 0353.jpg ...\n",
            "Processing 0354.jpg ...\n",
            "Processing 0355.jpg ...\n",
            "Processing 0356.jpg ...\n",
            "Processing 0357.jpg ...\n",
            "Processing 0358.jpg ...\n",
            "Processing 0359.jpg ...\n",
            "Processing 0360.jpg ...\n",
            "Processing 0361.jpg ...\n",
            "Processing 0362.jpg ...\n",
            "Processing 0363.jpg ...\n",
            "Processing 0364.jpg ...\n",
            "Processing 0365.jpg ...\n",
            "Processing 0366.jpg ...\n",
            "Processing 0367.jpg ...\n",
            "Processing 0368.jpg ...\n",
            "Processing 0369.jpg ...\n",
            "Processing 0370.jpg ...\n",
            "Processing 0371.jpg ...\n",
            "Processing 0372.jpg ...\n",
            "Processing 0373.jpg ...\n",
            "Processing 0374.jpg ...\n",
            "Processing 0375.jpg ...\n",
            "Processing 0376.jpg ...\n",
            "Processing 0377.jpg ...\n",
            "Processing 0378.jpg ...\n",
            "Processing 0379.jpg ...\n",
            "Processing 0380.jpg ...\n",
            "Processing 0381.jpg ...\n",
            "Processing 0382.jpg ...\n",
            "Processing 0383.jpg ...\n",
            "Processing 0384.jpg ...\n",
            "Processing 0385.jpg ...\n",
            "Processing 0386.jpg ...\n",
            "Processing 0387.jpg ...\n",
            "Processing 0388.jpg ...\n",
            "Processing 0389.jpg ...\n",
            "Processing 0390.jpg ...\n",
            "Processing 0391.jpg ...\n",
            "Processing 0392.jpg ...\n",
            "Processing 0393.jpg ...\n",
            "Processing 0394.jpg ...\n",
            "Processing 0395.jpg ...\n",
            "Processing 0396.jpg ...\n",
            "Processing 0397.jpg ...\n",
            "Processing 0398.jpg ...\n",
            "Processing 0399.jpg ...\n",
            "Processing 0400.jpg ...\n",
            "Processing 0401.jpg ...\n",
            "Processing 0402.jpg ...\n",
            "Processing 0403.jpg ...\n",
            "Processing 0404.jpg ...\n",
            "Processing 0405.jpg ...\n",
            "Processing 0406.jpg ...\n",
            "Processing 0407.jpg ...\n",
            "Processing 0408.jpg ...\n",
            "Processing 0409.jpg ...\n",
            "Processing 0410.jpg ...\n",
            "Processing 0411.jpg ...\n",
            "Processing 0412.jpg ...\n",
            "Processing 0413.jpg ...\n",
            "Processing 0414.jpg ...\n",
            "Processing 0415.jpg ...\n",
            "Processing 0416.jpg ...\n",
            "Processing 0417.jpg ...\n",
            "Processing 0418.jpg ...\n",
            "Processing 0419.jpg ...\n",
            "Processing 0420.jpg ...\n",
            "Processing 0421.jpg ...\n",
            "Processing 0422.jpg ...\n",
            "Processing 0423.jpg ...\n",
            "Processing 0424.jpg ...\n",
            "Processing 0425.jpg ...\n",
            "Processing 0426.jpg ...\n",
            "Processing 0427.jpg ...\n",
            "Processing 0428.jpg ...\n",
            "Processing 0429.jpg ...\n",
            "Processing 0430.jpg ...\n",
            "Processing 0431.jpg ...\n",
            "Processing 0432.jpg ...\n",
            "Processing 0433.jpg ...\n",
            "Processing 0434.jpg ...\n",
            "Processing 0435.jpg ...\n",
            "Processing 0436.jpg ...\n",
            "Processing 0437.jpg ...\n",
            "Processing 0438.jpg ...\n",
            "Processing 0439.jpg ...\n",
            "Processing 0440.jpg ...\n",
            "Processing 0441.jpg ...\n",
            "Processing 0442.jpg ...\n",
            "Processing 0443.jpg ...\n",
            "Processing 0444.jpg ...\n",
            "Processing 0445.jpg ...\n",
            "Processing 0446.jpg ...\n",
            "Processing 0447.jpg ...\n",
            "Processing 0448.jpg ...\n",
            "Processing 0449.jpg ...\n",
            "Processing 0450.jpg ...\n",
            "Processing 0451.jpg ...\n",
            "Processing 0452.jpg ...\n",
            "Processing 0453.jpg ...\n",
            "Processing 0454.jpg ...\n",
            "Processing 0455.jpg ...\n",
            "Processing 0456.jpg ...\n",
            "Processing 0457.jpg ...\n",
            "Processing 0458.jpg ...\n",
            "Processing 0459.jpg ...\n",
            "Processing 0460.jpg ...\n",
            "Processing 0461.jpg ...\n",
            "Processing 0462.jpg ...\n",
            "Processing 0463.jpg ...\n",
            "Processing 0464.jpg ...\n",
            "Processing 0465.jpg ...\n",
            "Processing 0466.jpg ...\n",
            "Processing 0467.jpg ...\n",
            "Processing 0468.jpg ...\n",
            "Processing 0469.jpg ...\n",
            "Processing 0470.jpg ...\n",
            "Processing 0471.jpg ...\n",
            "Processing 0472.jpg ...\n",
            "Processing 0473.jpg ...\n",
            "Processing 0474.jpg ...\n",
            "Processing 0475.jpg ...\n",
            "Processing 0476.jpg ...\n",
            "Processing 0477.jpg ...\n",
            "Processing 0478.jpg ...\n",
            "Processing 0479.jpg ...\n",
            "Processing 0480.jpg ...\n",
            "Processing 0481.jpg ...\n",
            "Processing 0482.jpg ...\n",
            "Processing 0483.jpg ...\n",
            "Processing 0484.jpg ...\n",
            "Processing 0485.jpg ...\n",
            "Processing 0486.jpg ...\n",
            "Processing 0487.jpg ...\n",
            "Processing 0488.jpg ...\n",
            "Processing 0489.jpg ...\n",
            "Processing 0490.jpg ...\n",
            "Processing 0491.jpg ...\n",
            "Processing 0492.jpg ...\n",
            "Processing 0493.jpg ...\n",
            "Processing 0494.jpg ...\n",
            "Processing 0495.jpg ...\n",
            "Processing 0496.jpg ...\n",
            "Processing 0497.jpg ...\n",
            "Processing 0498.jpg ...\n",
            "Processing 0499.jpg ...\n",
            "Processing 0500.jpg ...\n",
            "Processing 0501.jpg ...\n",
            "Processing 0502.jpg ...\n",
            "Processing 0503.jpg ...\n",
            "Processing 0504.jpg ...\n",
            "Processing 0505.jpg ...\n",
            "Processing 0506.jpg ...\n",
            "Processing 0507.jpg ...\n",
            "Processing 0508.jpg ...\n",
            "Processing 0509.jpg ...\n",
            "Processing 0510.jpg ...\n",
            "Processing 0511.jpg ...\n",
            "Processing 0512.jpg ...\n",
            "Processing 0513.jpg ...\n",
            "Processing 0514.jpg ...\n",
            "Processing 0515.jpg ...\n",
            "Processing 0516.jpg ...\n",
            "Processing 0517.jpg ...\n",
            "Processing 0518.jpg ...\n",
            "Processing 0519.jpg ...\n",
            "Processing 0520.jpg ...\n",
            "Processing 0521.jpg ...\n",
            "Processing 0522.jpg ...\n",
            "Processing 0523.jpg ...\n",
            "Processing 0524.jpg ...\n",
            "Processing 0525.jpg ...\n",
            "Processing 0526.jpg ...\n",
            "Processing 0527.jpg ...\n",
            "Processing 0528.jpg ...\n",
            "Processing 0529.jpg ...\n",
            "Processing 0530.jpg ...\n",
            "Processing 0531.jpg ...\n",
            "Processing 0532.jpg ...\n",
            "Processing 0533.jpg ...\n",
            "Processing 0534.jpg ...\n",
            "Processing 0535.jpg ...\n",
            "Processing 0536.jpg ...\n",
            "Processing 0537.jpg ...\n",
            "Processing 0538.jpg ...\n",
            "Processing 0539.jpg ...\n",
            "Processing 0540.jpg ...\n",
            "Processing 0541.jpg ...\n",
            "Processing 0542.jpg ...\n",
            "Processing 0543.jpg ...\n",
            "Processing 0544.jpg ...\n",
            "Processing 0545.jpg ...\n",
            "Processing 0546.jpg ...\n",
            "Processing 0547.jpg ...\n",
            "Processing 0548.jpg ...\n",
            "Processing 0549.jpg ...\n",
            "Processing 0550.jpg ...\n",
            "Processing 0551.jpg ...\n",
            "Processing 0552.jpg ...\n",
            "Processing 0553.jpg ...\n",
            "Processing 0554.jpg ...\n",
            "Processing 0555.jpg ...\n",
            "Processing 0556.jpg ...\n",
            "Processing 0557.jpg ...\n",
            "Processing 0558.jpg ...\n",
            "Processing 0559.jpg ...\n",
            "Processing 0560.jpg ...\n",
            "Processing 0561.jpg ...\n",
            "Processing 0562.jpg ...\n",
            "Processing 0563.jpg ...\n",
            "Processing 0564.jpg ...\n",
            "Processing 0565.jpg ...\n",
            "Processing 0566.jpg ...\n",
            "Processing 0567.jpg ...\n",
            "Processing 0568.jpg ...\n",
            "Processing 0569.jpg ...\n",
            "Processing 0570.jpg ...\n",
            "Processing 0571.jpg ...\n",
            "Processing 0572.jpg ...\n",
            "Processing 0573.jpg ...\n",
            "Processing 0574.jpg ...\n",
            "Processing 0575.jpg ...\n",
            "Processing 0576.jpg ...\n",
            "Processing 0577.jpg ...\n",
            "Processing 0578.jpg ...\n",
            "Processing 0579.jpg ...\n",
            "Processing 0580.jpg ...\n",
            "Processing 0581.jpg ...\n",
            "Processing 0582.jpg ...\n",
            "Processing 0583.jpg ...\n",
            "Processing 0584.jpg ...\n",
            "Processing 0585.jpg ...\n",
            "Processing 0586.jpg ...\n",
            "Processing 0587.jpg ...\n",
            "Processing 0588.jpg ...\n",
            "Processing 0589.jpg ...\n",
            "Processing 0590.jpg ...\n",
            "Processing 0591.jpg ...\n",
            "Processing 0592.jpg ...\n",
            "Processing 0593.jpg ...\n",
            "Processing 0594.jpg ...\n",
            "Processing 0595.jpg ...\n",
            "Processing 0596.jpg ...\n",
            "Processing 0597.jpg ...\n",
            "Processing 0598.jpg ...\n",
            "Processing 0599.jpg ...\n",
            "Processing 0600.jpg ...\n",
            "Processing 0601.jpg ...\n",
            "Processing 0602.jpg ...\n",
            "Processing 0603.jpg ...\n",
            "Processing 0604.jpg ...\n",
            "Processing 0605.jpg ...\n",
            "Processing 0606.jpg ...\n",
            "Processing 0607.jpg ...\n",
            "Processing 0608.jpg ...\n",
            "Processing 0609.jpg ...\n",
            "Processing 0610.jpg ...\n",
            "Processing 0611.jpg ...\n",
            "Processing 0612.jpg ...\n",
            "Processing 0613.jpg ...\n",
            "Processing 0614.jpg ...\n",
            "Processing 0615.jpg ...\n",
            "Processing 0616.jpg ...\n",
            "Processing 0617.jpg ...\n",
            "Processing 0618.jpg ...\n",
            "Processing 0619.jpg ...\n",
            "Processing 0620.jpg ...\n",
            "Processing 0621.jpg ...\n",
            "Processing 0622.jpg ...\n",
            "Processing 0623.jpg ...\n",
            "Processing 0624.jpg ...\n",
            "Processing 0625.jpg ...\n",
            "Processing 0626.jpg ...\n",
            "Processing 0627.jpg ...\n",
            "Processing 0628.jpg ...\n",
            "Processing 0629.jpg ...\n",
            "Processing 0630.jpg ...\n",
            "Processing 0631.jpg ...\n",
            "Processing 0632.jpg ...\n",
            "Processing 0633.jpg ...\n",
            "Processing 0634.jpg ...\n",
            "Processing 0635.jpg ...\n",
            "Processing 0636.jpg ...\n",
            "Processing 0637.jpg ...\n",
            "Processing 0638.jpg ...\n",
            "Processing 0639.jpg ...\n",
            "Processing 0640.jpg ...\n",
            "Processing 0641.jpg ...\n",
            "Processing 0642.jpg ...\n",
            "Processing 0643.jpg ...\n",
            "Processing 0644.jpg ...\n",
            "Processing 0645.jpg ...\n",
            "Processing 0646.jpg ...\n",
            "Processing 0647.jpg ...\n",
            "Processing 0648.jpg ...\n",
            "Processing 0649.jpg ...\n",
            "Processing 0650.jpg ...\n",
            "Processing 0651.jpg ...\n",
            "Processing 0652.jpg ...\n",
            "Processing 0653.jpg ...\n",
            "Processing 0654.jpg ...\n",
            "Processing 0655.jpg ...\n",
            "Processing 0656.jpg ...\n",
            "Processing 0657.jpg ...\n",
            "Processing 0658.jpg ...\n",
            "Processing 0659.jpg ...\n",
            "Processing 0660.jpg ...\n",
            "Processing 0661.jpg ...\n",
            "Processing 0662.jpg ...\n",
            "Processing 0663.jpg ...\n",
            "Processing 0664.jpg ...\n",
            "Processing 0665.jpg ...\n",
            "Processing 0666.jpg ...\n",
            "Processing 0667.jpg ...\n",
            "Processing 0668.jpg ...\n",
            "Processing 0669.jpg ...\n",
            "Processing 0670.jpg ...\n",
            "Processing 0671.jpg ...\n",
            "Processing 0672.jpg ...\n",
            "Processing 0673.jpg ...\n",
            "Processing 0674.jpg ...\n",
            "Processing 0675.jpg ...\n",
            "Processing 0676.jpg ...\n",
            "Processing 0677.jpg ...\n",
            "Processing 0678.jpg ...\n",
            "Processing 0679.jpg ...\n",
            "Processing 0680.jpg ...\n",
            "Processing 0681.jpg ...\n",
            "Processing 0682.jpg ...\n",
            "Processing 0683.jpg ...\n",
            "Processing 0684.jpg ...\n",
            "Processing 0685.jpg ...\n",
            "Processing 0686.jpg ...\n",
            "Processing 0687.jpg ...\n",
            "Results are in the [/content//outputs] folder.\n",
            "The video is 25.0 FPS.\n"
          ]
        },
        {
          "output_type": "stream",
          "name": "stderr",
          "text": [
            "\r  0%|          | 0/1 [00:00<?, ?it/s]"
          ]
        },
        {
          "output_type": "stream",
          "name": "stdout",
          "text": [
            "processing  0 1300\r"
          ]
        },
        {
          "output_type": "stream",
          "name": "stderr",
          "text": [
            "\n",
            "  0%|          | 0/688 [00:00<?, ?it/s]\u001b[A\n",
            "  0%|          | 3/688 [00:00<00:23, 29.29it/s]\u001b[A"
          ]
        },
        {
          "output_type": "stream",
          "name": "stdout",
          "text": [
            "Video video writer\n",
            "Video video writer\n",
            "Video video writer\n",
            "Video video writer\n",
            "Video video writer\n"
          ]
        },
        {
          "output_type": "stream",
          "name": "stderr",
          "text": [
            "\n",
            "  1%|          | 6/688 [00:00<00:23, 29.17it/s]\u001b[A"
          ]
        },
        {
          "output_type": "stream",
          "name": "stdout",
          "text": [
            "Video video writer\n"
          ]
        },
        {
          "output_type": "stream",
          "name": "stderr",
          "text": [
            "\n",
            "  1%|▏         | 10/688 [00:00<00:22, 29.87it/s]\u001b[A"
          ]
        },
        {
          "output_type": "stream",
          "name": "stdout",
          "text": [
            "Video video writer\n",
            "Video video writer\n",
            "Video video writer\n",
            "Video video writer\n",
            "Video video writer\n"
          ]
        },
        {
          "output_type": "stream",
          "name": "stderr",
          "text": [
            "\n",
            "  2%|▏         | 13/688 [00:00<00:22, 29.74it/s]\u001b[A"
          ]
        },
        {
          "output_type": "stream",
          "name": "stdout",
          "text": [
            "Video video writer\n",
            "Video video writer\n"
          ]
        },
        {
          "output_type": "stream",
          "name": "stderr",
          "text": [
            "\n",
            "  2%|▏         | 16/688 [00:00<00:23, 28.62it/s]\u001b[A"
          ]
        },
        {
          "output_type": "stream",
          "name": "stdout",
          "text": [
            "Video video writer\n",
            "Video video writer\n",
            "Video video writer\n",
            "Video video writer\n"
          ]
        },
        {
          "output_type": "stream",
          "name": "stderr",
          "text": [
            "\n",
            "  3%|▎         | 19/688 [00:00<00:23, 28.94it/s]\u001b[A"
          ]
        },
        {
          "output_type": "stream",
          "name": "stdout",
          "text": [
            "Video video writer\n",
            "Video video writer\n"
          ]
        },
        {
          "output_type": "stream",
          "name": "stderr",
          "text": [
            "\n",
            "  3%|▎         | 22/688 [00:00<00:22, 29.19it/s]\u001b[A"
          ]
        },
        {
          "output_type": "stream",
          "name": "stdout",
          "text": [
            "Video video writer\n",
            "Video video writer\n",
            "Video video writer\n",
            "Video video writer\n"
          ]
        },
        {
          "output_type": "stream",
          "name": "stderr",
          "text": [
            "\n",
            "  4%|▎         | 25/688 [00:00<00:23, 28.47it/s]\u001b[A"
          ]
        },
        {
          "output_type": "stream",
          "name": "stdout",
          "text": [
            "Video video writer\n",
            "Video video writer\n"
          ]
        },
        {
          "output_type": "stream",
          "name": "stderr",
          "text": [
            "\n",
            "  4%|▍         | 28/688 [00:00<00:23, 27.75it/s]\u001b[A"
          ]
        },
        {
          "output_type": "stream",
          "name": "stdout",
          "text": [
            "Video video writer\n",
            "Video video writer\n",
            "Video video writer\n",
            "Video video writer\n"
          ]
        },
        {
          "output_type": "stream",
          "name": "stderr",
          "text": [
            "\n",
            "  5%|▍         | 31/688 [00:01<00:23, 28.30it/s]\u001b[A"
          ]
        },
        {
          "output_type": "stream",
          "name": "stdout",
          "text": [
            "Video video writer\n",
            "Video video writer\n",
            "Video video writer\n"
          ]
        },
        {
          "output_type": "stream",
          "name": "stderr",
          "text": [
            "\n",
            "  5%|▍         | 34/688 [00:01<00:22, 28.71it/s]\u001b[A"
          ]
        },
        {
          "output_type": "stream",
          "name": "stdout",
          "text": [
            "Video video writer\n",
            "Video video writer\n",
            "Video video writer\n"
          ]
        },
        {
          "output_type": "stream",
          "name": "stderr",
          "text": [
            "\n",
            "  5%|▌         | 37/688 [00:01<00:22, 28.59it/s]\u001b[A"
          ]
        },
        {
          "output_type": "stream",
          "name": "stdout",
          "text": [
            "Video video writer\n",
            "Video video writer\n",
            "Video video writer\n"
          ]
        },
        {
          "output_type": "stream",
          "name": "stderr",
          "text": [
            "\n",
            "  6%|▌         | 40/688 [00:01<00:23, 27.99it/s]\u001b[A"
          ]
        },
        {
          "output_type": "stream",
          "name": "stdout",
          "text": [
            "Video video writer\n",
            "Video video writer\n",
            "Video video writer\n"
          ]
        },
        {
          "output_type": "stream",
          "name": "stderr",
          "text": [
            "\n",
            "  6%|▋         | 44/688 [00:01<00:22, 29.04it/s]\u001b[A"
          ]
        },
        {
          "output_type": "stream",
          "name": "stdout",
          "text": [
            "Video video writer\n",
            "Video video writer\n",
            "Video video writer\n",
            "Video video writer\n"
          ]
        },
        {
          "output_type": "stream",
          "name": "stderr",
          "text": [
            "\n",
            "  7%|▋         | 47/688 [00:01<00:21, 29.21it/s]\u001b[A"
          ]
        },
        {
          "output_type": "stream",
          "name": "stdout",
          "text": [
            "Video video writer\n",
            "Video video writer\n"
          ]
        },
        {
          "output_type": "stream",
          "name": "stderr",
          "text": [
            "\n",
            "  7%|▋         | 50/688 [00:01<00:21, 29.09it/s]\u001b[A"
          ]
        },
        {
          "output_type": "stream",
          "name": "stdout",
          "text": [
            "Video video writer\n",
            "Video video writer\n",
            "Video video writer\n",
            "Video video writer\n"
          ]
        },
        {
          "output_type": "stream",
          "name": "stderr",
          "text": [
            "\n",
            "  8%|▊         | 53/688 [00:01<00:22, 28.51it/s]\u001b[A"
          ]
        },
        {
          "output_type": "stream",
          "name": "stdout",
          "text": [
            "Video video writer\n",
            "Video video writer\n"
          ]
        },
        {
          "output_type": "stream",
          "name": "stderr",
          "text": [
            "\n",
            "  8%|▊         | 56/688 [00:01<00:21, 28.77it/s]\u001b[A"
          ]
        },
        {
          "output_type": "stream",
          "name": "stdout",
          "text": [
            "Video video writer\n",
            "Video video writer\n",
            "Video video writer\n",
            "Video video writer\n"
          ]
        },
        {
          "output_type": "stream",
          "name": "stderr",
          "text": [
            "\n",
            "  9%|▊         | 59/688 [00:02<00:21, 28.87it/s]\u001b[A"
          ]
        },
        {
          "output_type": "stream",
          "name": "stdout",
          "text": [
            "Video video writer\n",
            "Video video writer\n"
          ]
        },
        {
          "output_type": "stream",
          "name": "stderr",
          "text": [
            "\n",
            "  9%|▉         | 62/688 [00:02<00:21, 28.65it/s]\u001b[A"
          ]
        },
        {
          "output_type": "stream",
          "name": "stdout",
          "text": [
            "Video video writer\n",
            "Video video writer\n",
            "Video video writer\n",
            "Video video writer\n"
          ]
        },
        {
          "output_type": "stream",
          "name": "stderr",
          "text": [
            "\n",
            "  9%|▉         | 65/688 [00:02<00:21, 28.47it/s]\u001b[A"
          ]
        },
        {
          "output_type": "stream",
          "name": "stdout",
          "text": [
            "Video video writer\n",
            "Video video writer\n"
          ]
        },
        {
          "output_type": "stream",
          "name": "stderr",
          "text": [
            "\n",
            " 10%|▉         | 68/688 [00:02<00:21, 28.36it/s]\u001b[A"
          ]
        },
        {
          "output_type": "stream",
          "name": "stdout",
          "text": [
            "Video video writer\n",
            "Video video writer\n",
            "Video video writer\n",
            "Video video writer\n"
          ]
        },
        {
          "output_type": "stream",
          "name": "stderr",
          "text": [
            "\n",
            " 10%|█         | 71/688 [00:02<00:21, 28.44it/s]\u001b[A"
          ]
        },
        {
          "output_type": "stream",
          "name": "stdout",
          "text": [
            "Video video writer\n",
            "Video video writer\n"
          ]
        },
        {
          "output_type": "stream",
          "name": "stderr",
          "text": [
            "\n",
            " 11%|█         | 74/688 [00:02<00:21, 28.33it/s]\u001b[A"
          ]
        },
        {
          "output_type": "stream",
          "name": "stdout",
          "text": [
            "Video video writer\n",
            "Video video writer\n",
            "Video video writer\n",
            "Video video writer\n"
          ]
        },
        {
          "output_type": "stream",
          "name": "stderr",
          "text": [
            "\n",
            " 11%|█         | 77/688 [00:02<00:21, 28.24it/s]\u001b[A"
          ]
        },
        {
          "output_type": "stream",
          "name": "stdout",
          "text": [
            "Video video writer\n",
            "Video video writer\n"
          ]
        },
        {
          "output_type": "stream",
          "name": "stderr",
          "text": [
            "\n",
            " 12%|█▏        | 80/688 [00:02<00:21, 27.94it/s]\u001b[A"
          ]
        },
        {
          "output_type": "stream",
          "name": "stdout",
          "text": [
            "Video video writer\n",
            "Video video writer\n",
            "Video video writer\n",
            "Video video writer\n"
          ]
        },
        {
          "output_type": "stream",
          "name": "stderr",
          "text": [
            "\n",
            " 12%|█▏        | 83/688 [00:02<00:22, 27.44it/s]\u001b[A"
          ]
        },
        {
          "output_type": "stream",
          "name": "stdout",
          "text": [
            "Video video writer\n",
            "Video video writer\n"
          ]
        },
        {
          "output_type": "stream",
          "name": "stderr",
          "text": [
            "\n",
            " 12%|█▎        | 86/688 [00:03<00:21, 27.63it/s]\u001b[A"
          ]
        },
        {
          "output_type": "stream",
          "name": "stdout",
          "text": [
            "Video video writer\n",
            "Video video writer\n",
            "Video video writer\n",
            "Video video writer\n"
          ]
        },
        {
          "output_type": "stream",
          "name": "stderr",
          "text": [
            "\n",
            " 13%|█▎        | 89/688 [00:03<00:21, 28.18it/s]\u001b[A"
          ]
        },
        {
          "output_type": "stream",
          "name": "stdout",
          "text": [
            "Video video writer\n",
            "Video video writer\n"
          ]
        },
        {
          "output_type": "stream",
          "name": "stderr",
          "text": [
            "\n",
            " 13%|█▎        | 92/688 [00:03<00:21, 27.98it/s]\u001b[A"
          ]
        },
        {
          "output_type": "stream",
          "name": "stdout",
          "text": [
            "Video video writer\n",
            "Video video writer\n",
            "Video video writer\n",
            "Video video writer\n"
          ]
        },
        {
          "output_type": "stream",
          "name": "stderr",
          "text": [
            "\n",
            " 14%|█▍        | 95/688 [00:03<00:21, 27.40it/s]\u001b[A"
          ]
        },
        {
          "output_type": "stream",
          "name": "stdout",
          "text": [
            "Video video writer\n",
            "Video video writer\n"
          ]
        },
        {
          "output_type": "stream",
          "name": "stderr",
          "text": [
            "\n",
            " 14%|█▍        | 98/688 [00:03<00:21, 27.62it/s]\u001b[A"
          ]
        },
        {
          "output_type": "stream",
          "name": "stdout",
          "text": [
            "Video video writer\n",
            "Video video writer\n",
            "Video video writer\n",
            "Video video writer\n"
          ]
        },
        {
          "output_type": "stream",
          "name": "stderr",
          "text": [
            "\n",
            " 15%|█▍        | 101/688 [00:03<00:21, 27.92it/s]\u001b[A"
          ]
        },
        {
          "output_type": "stream",
          "name": "stdout",
          "text": [
            "Video video writer\n",
            "Video video writer\n"
          ]
        },
        {
          "output_type": "stream",
          "name": "stderr",
          "text": [
            "\n",
            " 15%|█▌        | 104/688 [00:03<00:20, 27.82it/s]\u001b[A"
          ]
        },
        {
          "output_type": "stream",
          "name": "stdout",
          "text": [
            "Video video writer\n",
            "Video video writer\n",
            "Video video writer\n",
            "Video video writer\n"
          ]
        },
        {
          "output_type": "stream",
          "name": "stderr",
          "text": [
            "\n",
            " 16%|█▌        | 107/688 [00:03<00:20, 28.38it/s]\u001b[A"
          ]
        },
        {
          "output_type": "stream",
          "name": "stdout",
          "text": [
            "Video video writer\n",
            "Video video writer\n"
          ]
        },
        {
          "output_type": "stream",
          "name": "stderr",
          "text": [
            "\n",
            " 16%|█▌        | 110/688 [00:03<00:20, 28.09it/s]\u001b[A"
          ]
        },
        {
          "output_type": "stream",
          "name": "stdout",
          "text": [
            "Video video writer\n",
            "Video video writer\n",
            "Video video writer\n",
            "Video video writer\n"
          ]
        },
        {
          "output_type": "stream",
          "name": "stderr",
          "text": [
            "\n",
            " 16%|█▋        | 113/688 [00:03<00:20, 27.79it/s]\u001b[A"
          ]
        },
        {
          "output_type": "stream",
          "name": "stdout",
          "text": [
            "Video video writer\n",
            "Video video writer\n"
          ]
        },
        {
          "output_type": "stream",
          "name": "stderr",
          "text": [
            "\n",
            " 17%|█▋        | 116/688 [00:04<00:21, 26.76it/s]\u001b[A"
          ]
        },
        {
          "output_type": "stream",
          "name": "stdout",
          "text": [
            "Video video writer\n",
            "Video video writer\n",
            "Video video writer\n"
          ]
        },
        {
          "output_type": "stream",
          "name": "stderr",
          "text": [
            "\n",
            " 17%|█▋        | 119/688 [00:04<00:20, 27.18it/s]\u001b[A"
          ]
        },
        {
          "output_type": "stream",
          "name": "stdout",
          "text": [
            "Video video writer\n",
            "Video video writer\n",
            "Video video writer\n"
          ]
        },
        {
          "output_type": "stream",
          "name": "stderr",
          "text": [
            "\n",
            " 18%|█▊        | 122/688 [00:04<00:20, 27.60it/s]\u001b[A"
          ]
        },
        {
          "output_type": "stream",
          "name": "stdout",
          "text": [
            "Video video writer\n",
            "Video video writer\n",
            "Video video writer\n"
          ]
        },
        {
          "output_type": "stream",
          "name": "stderr",
          "text": [
            "\n",
            " 18%|█▊        | 125/688 [00:04<00:20, 27.72it/s]\u001b[A"
          ]
        },
        {
          "output_type": "stream",
          "name": "stdout",
          "text": [
            "Video video writer\n",
            "Video video writer\n",
            "Video video writer\n"
          ]
        },
        {
          "output_type": "stream",
          "name": "stderr",
          "text": [
            "\n",
            " 19%|█▊        | 128/688 [00:04<00:19, 28.17it/s]\u001b[A"
          ]
        },
        {
          "output_type": "stream",
          "name": "stdout",
          "text": [
            "Video video writer\n",
            "Video video writer\n",
            "Video video writer\n"
          ]
        },
        {
          "output_type": "stream",
          "name": "stderr",
          "text": [
            "\n",
            " 19%|█▉        | 131/688 [00:04<00:19, 28.42it/s]\u001b[A"
          ]
        },
        {
          "output_type": "stream",
          "name": "stdout",
          "text": [
            "Video video writer\n",
            "Video video writer\n",
            "Video video writer\n"
          ]
        },
        {
          "output_type": "stream",
          "name": "stderr",
          "text": [
            "\n",
            " 19%|█▉        | 134/688 [00:04<00:19, 28.84it/s]\u001b[A"
          ]
        },
        {
          "output_type": "stream",
          "name": "stdout",
          "text": [
            "Video video writer\n",
            "Video video writer\n",
            "Video video writer\n"
          ]
        },
        {
          "output_type": "stream",
          "name": "stderr",
          "text": [
            "\n",
            " 20%|█▉        | 137/688 [00:04<00:18, 29.03it/s]\u001b[A"
          ]
        },
        {
          "output_type": "stream",
          "name": "stdout",
          "text": [
            "Video video writer\n",
            "Video video writer\n",
            "Video video writer\n",
            "Video video writer\n"
          ]
        },
        {
          "output_type": "stream",
          "name": "stderr",
          "text": [
            "\n",
            " 20%|██        | 140/688 [00:04<00:19, 28.49it/s]\u001b[A"
          ]
        },
        {
          "output_type": "stream",
          "name": "stdout",
          "text": [
            "Video video writer\n",
            "Video video writer\n"
          ]
        },
        {
          "output_type": "stream",
          "name": "stderr",
          "text": [
            "\n",
            " 21%|██        | 143/688 [00:05<00:19, 28.50it/s]\u001b[A"
          ]
        },
        {
          "output_type": "stream",
          "name": "stdout",
          "text": [
            "Video video writer\n",
            "Video video writer\n",
            "Video video writer\n",
            "Video video writer\n"
          ]
        },
        {
          "output_type": "stream",
          "name": "stderr",
          "text": [
            "\n",
            " 21%|██        | 146/688 [00:05<00:19, 28.20it/s]\u001b[A"
          ]
        },
        {
          "output_type": "stream",
          "name": "stdout",
          "text": [
            "Video video writer\n",
            "Video video writer\n"
          ]
        },
        {
          "output_type": "stream",
          "name": "stderr",
          "text": [
            "\n",
            " 22%|██▏       | 149/688 [00:05<00:18, 28.51it/s]\u001b[A"
          ]
        },
        {
          "output_type": "stream",
          "name": "stdout",
          "text": [
            "Video video writer\n",
            "Video video writer\n",
            "Video video writer\n",
            "Video video writer\n"
          ]
        },
        {
          "output_type": "stream",
          "name": "stderr",
          "text": [
            "\n",
            " 22%|██▏       | 152/688 [00:05<00:18, 28.40it/s]\u001b[A"
          ]
        },
        {
          "output_type": "stream",
          "name": "stdout",
          "text": [
            "Video video writer\n",
            "Video video writer\n"
          ]
        },
        {
          "output_type": "stream",
          "name": "stderr",
          "text": [
            "\n",
            " 23%|██▎       | 155/688 [00:05<00:18, 28.62it/s]\u001b[A"
          ]
        },
        {
          "output_type": "stream",
          "name": "stdout",
          "text": [
            "Video video writer\n",
            "Video video writer\n",
            "Video video writer\n",
            "Video video writer\n"
          ]
        },
        {
          "output_type": "stream",
          "name": "stderr",
          "text": [
            "\n",
            " 23%|██▎       | 158/688 [00:05<00:18, 28.69it/s]\u001b[A"
          ]
        },
        {
          "output_type": "stream",
          "name": "stdout",
          "text": [
            "Video video writer\n",
            "Video video writer\n"
          ]
        },
        {
          "output_type": "stream",
          "name": "stderr",
          "text": [
            "\n",
            " 23%|██▎       | 161/688 [00:05<00:18, 28.22it/s]\u001b[A"
          ]
        },
        {
          "output_type": "stream",
          "name": "stdout",
          "text": [
            "Video video writer\n",
            "Video video writer\n",
            "Video video writer\n",
            "Video video writer\n"
          ]
        },
        {
          "output_type": "stream",
          "name": "stderr",
          "text": [
            "\n",
            " 24%|██▍       | 164/688 [00:05<00:18, 28.35it/s]\u001b[A"
          ]
        },
        {
          "output_type": "stream",
          "name": "stdout",
          "text": [
            "Video video writer\n",
            "Video video writer\n"
          ]
        },
        {
          "output_type": "stream",
          "name": "stderr",
          "text": [
            "\n",
            " 24%|██▍       | 167/688 [00:05<00:18, 28.25it/s]\u001b[A"
          ]
        },
        {
          "output_type": "stream",
          "name": "stdout",
          "text": [
            "Video video writer\n",
            "Video video writer\n",
            "Video video writer\n",
            "Video video writer\n"
          ]
        },
        {
          "output_type": "stream",
          "name": "stderr",
          "text": [
            "\n",
            " 25%|██▍       | 170/688 [00:06<00:18, 28.06it/s]\u001b[A"
          ]
        },
        {
          "output_type": "stream",
          "name": "stdout",
          "text": [
            "Video video writer\n",
            "Video video writer\n"
          ]
        },
        {
          "output_type": "stream",
          "name": "stderr",
          "text": [
            "\n",
            " 25%|██▌       | 173/688 [00:06<00:18, 28.50it/s]\u001b[A"
          ]
        },
        {
          "output_type": "stream",
          "name": "stdout",
          "text": [
            "Video video writer\n",
            "Video video writer\n",
            "Video video writer\n",
            "Video video writer\n"
          ]
        },
        {
          "output_type": "stream",
          "name": "stderr",
          "text": [
            "\n",
            " 26%|██▌       | 176/688 [00:06<00:18, 28.41it/s]\u001b[A"
          ]
        },
        {
          "output_type": "stream",
          "name": "stdout",
          "text": [
            "Video video writer\n",
            "Video video writer\n"
          ]
        },
        {
          "output_type": "stream",
          "name": "stderr",
          "text": [
            "\n",
            " 26%|██▌       | 179/688 [00:06<00:17, 28.31it/s]\u001b[A"
          ]
        },
        {
          "output_type": "stream",
          "name": "stdout",
          "text": [
            "Video video writer\n",
            "Video video writer\n",
            "Video video writer\n",
            "Video video writer\n"
          ]
        },
        {
          "output_type": "stream",
          "name": "stderr",
          "text": [
            "\n",
            " 26%|██▋       | 182/688 [00:06<00:17, 28.57it/s]\u001b[A"
          ]
        },
        {
          "output_type": "stream",
          "name": "stdout",
          "text": [
            "Video video writer\n",
            "Video video writer\n"
          ]
        },
        {
          "output_type": "stream",
          "name": "stderr",
          "text": [
            "\n",
            " 27%|██▋       | 185/688 [00:06<00:17, 28.80it/s]\u001b[A"
          ]
        },
        {
          "output_type": "stream",
          "name": "stdout",
          "text": [
            "Video video writer\n",
            "Video video writer\n",
            "Video video writer\n",
            "Video video writer\n"
          ]
        },
        {
          "output_type": "stream",
          "name": "stderr",
          "text": [
            "\n",
            " 27%|██▋       | 188/688 [00:06<00:17, 28.66it/s]\u001b[A"
          ]
        },
        {
          "output_type": "stream",
          "name": "stdout",
          "text": [
            "Video video writer\n",
            "Video video writer\n"
          ]
        },
        {
          "output_type": "stream",
          "name": "stderr",
          "text": [
            "\n",
            " 28%|██▊       | 191/688 [00:06<00:17, 28.65it/s]\u001b[A"
          ]
        },
        {
          "output_type": "stream",
          "name": "stdout",
          "text": [
            "Video video writer\n",
            "Video video writer\n",
            "Video video writer\n",
            "Video video writer\n"
          ]
        },
        {
          "output_type": "stream",
          "name": "stderr",
          "text": [
            "\n",
            " 28%|██▊       | 194/688 [00:06<00:17, 28.97it/s]\u001b[A"
          ]
        },
        {
          "output_type": "stream",
          "name": "stdout",
          "text": [
            "Video video writer\n",
            "Video video writer\n"
          ]
        },
        {
          "output_type": "stream",
          "name": "stderr",
          "text": [
            "\n",
            " 29%|██▊       | 197/688 [00:06<00:17, 28.65it/s]\u001b[A"
          ]
        },
        {
          "output_type": "stream",
          "name": "stdout",
          "text": [
            "Video video writer\n",
            "Video video writer\n",
            "Video video writer\n",
            "Video video writer\n"
          ]
        },
        {
          "output_type": "stream",
          "name": "stderr",
          "text": [
            "\n",
            " 29%|██▉       | 200/688 [00:07<00:16, 28.88it/s]\u001b[A"
          ]
        },
        {
          "output_type": "stream",
          "name": "stdout",
          "text": [
            "Video video writer\n",
            "Video video writer\n"
          ]
        },
        {
          "output_type": "stream",
          "name": "stderr",
          "text": [
            "\n",
            " 30%|██▉       | 203/688 [00:07<00:17, 28.33it/s]\u001b[A"
          ]
        },
        {
          "output_type": "stream",
          "name": "stdout",
          "text": [
            "Video video writer\n",
            "Video video writer\n",
            "Video video writer\n",
            "Video video writer\n"
          ]
        },
        {
          "output_type": "stream",
          "name": "stderr",
          "text": [
            "\n",
            " 30%|██▉       | 206/688 [00:07<00:16, 28.77it/s]\u001b[A"
          ]
        },
        {
          "output_type": "stream",
          "name": "stdout",
          "text": [
            "Video video writer\n",
            "Video video writer\n"
          ]
        },
        {
          "output_type": "stream",
          "name": "stderr",
          "text": [
            "\n",
            " 30%|███       | 209/688 [00:07<00:16, 29.06it/s]\u001b[A"
          ]
        },
        {
          "output_type": "stream",
          "name": "stdout",
          "text": [
            "Video video writer\n",
            "Video video writer\n",
            "Video video writer\n",
            "Video video writer\n"
          ]
        },
        {
          "output_type": "stream",
          "name": "stderr",
          "text": [
            "\n",
            " 31%|███       | 212/688 [00:07<00:16, 28.99it/s]\u001b[A"
          ]
        },
        {
          "output_type": "stream",
          "name": "stdout",
          "text": [
            "Video video writer\n",
            "Video video writer\n"
          ]
        },
        {
          "output_type": "stream",
          "name": "stderr",
          "text": [
            "\n",
            " 31%|███▏      | 215/688 [00:07<00:16, 29.04it/s]\u001b[A"
          ]
        },
        {
          "output_type": "stream",
          "name": "stdout",
          "text": [
            "Video video writer\n",
            "Video video writer\n",
            "Video video writer\n",
            "Video video writer\n"
          ]
        },
        {
          "output_type": "stream",
          "name": "stderr",
          "text": [
            "\n",
            " 32%|███▏      | 218/688 [00:07<00:16, 28.83it/s]\u001b[A"
          ]
        },
        {
          "output_type": "stream",
          "name": "stdout",
          "text": [
            "Video video writer\n",
            "Video video writer\n"
          ]
        },
        {
          "output_type": "stream",
          "name": "stderr",
          "text": [
            "\n",
            " 32%|███▏      | 222/688 [00:07<00:15, 29.66it/s]\u001b[A"
          ]
        },
        {
          "output_type": "stream",
          "name": "stdout",
          "text": [
            "Video video writer\n",
            "Video video writer\n",
            "Video video writer\n",
            "Video video writer\n",
            "Video video writer\n"
          ]
        },
        {
          "output_type": "stream",
          "name": "stderr",
          "text": [
            "\n",
            " 33%|███▎      | 225/688 [00:07<00:15, 29.12it/s]"
          ]
        },
        {
          "output_type": "stream",
          "name": "stdout",
          "text": [
            "Video video writer\n",
            "Video video writer\n"
          ]
        },
        {
          "output_type": "stream",
          "name": "stderr",
          "text": [
            "\u001b[A\n",
            " 33%|███▎      | 228/688 [00:08<00:16, 28.47it/s]\u001b[A"
          ]
        },
        {
          "output_type": "stream",
          "name": "stdout",
          "text": [
            "Video video writer\n",
            "Video video writer\n",
            "Video video writer\n",
            "Video video writer\n"
          ]
        },
        {
          "output_type": "stream",
          "name": "stderr",
          "text": [
            "\n",
            " 34%|███▎      | 231/688 [00:08<00:16, 28.54it/s]\u001b[A"
          ]
        },
        {
          "output_type": "stream",
          "name": "stdout",
          "text": [
            "Video video writer\n",
            "Video video writer\n"
          ]
        },
        {
          "output_type": "stream",
          "name": "stderr",
          "text": [
            "\n",
            " 34%|███▍      | 234/688 [00:08<00:15, 28.57it/s]\u001b[A"
          ]
        },
        {
          "output_type": "stream",
          "name": "stdout",
          "text": [
            "Video video writer\n",
            "Video video writer\n",
            "Video video writer\n",
            "Video video writer\n"
          ]
        },
        {
          "output_type": "stream",
          "name": "stderr",
          "text": [
            "\n",
            " 34%|███▍      | 237/688 [00:08<00:15, 28.74it/s]\u001b[A"
          ]
        },
        {
          "output_type": "stream",
          "name": "stdout",
          "text": [
            "Video video writer\n",
            "Video video writer\n"
          ]
        },
        {
          "output_type": "stream",
          "name": "stderr",
          "text": [
            "\n",
            " 35%|███▍      | 240/688 [00:08<00:15, 28.60it/s]\u001b[A"
          ]
        },
        {
          "output_type": "stream",
          "name": "stdout",
          "text": [
            "Video video writer\n",
            "Video video writer\n",
            "Video video writer\n",
            "Video video writer\n"
          ]
        },
        {
          "output_type": "stream",
          "name": "stderr",
          "text": [
            "\n",
            " 35%|███▌      | 243/688 [00:08<00:15, 28.78it/s]\u001b[A"
          ]
        },
        {
          "output_type": "stream",
          "name": "stdout",
          "text": [
            "Video video writer\n",
            "Video video writer\n"
          ]
        },
        {
          "output_type": "stream",
          "name": "stderr",
          "text": [
            "\n",
            " 36%|███▌      | 246/688 [00:08<00:15, 28.23it/s]\u001b[A"
          ]
        },
        {
          "output_type": "stream",
          "name": "stdout",
          "text": [
            "Video video writer\n",
            "Video video writer\n",
            "Video video writer\n",
            "Video video writer\n"
          ]
        },
        {
          "output_type": "stream",
          "name": "stderr",
          "text": [
            "\n",
            " 36%|███▌      | 249/688 [00:08<00:15, 28.29it/s]\u001b[A"
          ]
        },
        {
          "output_type": "stream",
          "name": "stdout",
          "text": [
            "Video video writer\n",
            "Video video writer\n"
          ]
        },
        {
          "output_type": "stream",
          "name": "stderr",
          "text": [
            "\n",
            " 37%|███▋      | 252/688 [00:08<00:15, 28.59it/s]\u001b[A"
          ]
        },
        {
          "output_type": "stream",
          "name": "stdout",
          "text": [
            "Video video writer\n",
            "Video video writer\n",
            "Video video writer\n",
            "Video video writer\n"
          ]
        },
        {
          "output_type": "stream",
          "name": "stderr",
          "text": [
            "\n",
            " 37%|███▋      | 255/688 [00:08<00:15, 28.81it/s]\u001b[A"
          ]
        },
        {
          "output_type": "stream",
          "name": "stdout",
          "text": [
            "Video video writer\n",
            "Video video writer\n"
          ]
        },
        {
          "output_type": "stream",
          "name": "stderr",
          "text": [
            "\n",
            " 38%|███▊      | 258/688 [00:09<00:15, 27.57it/s]\u001b[A"
          ]
        },
        {
          "output_type": "stream",
          "name": "stdout",
          "text": [
            "Video video writer\n",
            "Video video writer\n",
            "Video video writer\n",
            "Video video writer\n"
          ]
        },
        {
          "output_type": "stream",
          "name": "stderr",
          "text": [
            "\n",
            " 38%|███▊      | 261/688 [00:09<00:15, 27.91it/s]\u001b[A"
          ]
        },
        {
          "output_type": "stream",
          "name": "stdout",
          "text": [
            "Video video writer\n",
            "Video video writer\n"
          ]
        },
        {
          "output_type": "stream",
          "name": "stderr",
          "text": [
            "\n",
            " 38%|███▊      | 264/688 [00:09<00:15, 28.02it/s]\u001b[A"
          ]
        },
        {
          "output_type": "stream",
          "name": "stdout",
          "text": [
            "Video video writer\n",
            "Video video writer\n",
            "Video video writer\n",
            "Video video writer\n"
          ]
        },
        {
          "output_type": "stream",
          "name": "stderr",
          "text": [
            "\n",
            " 39%|███▉      | 267/688 [00:09<00:14, 28.09it/s]\u001b[A"
          ]
        },
        {
          "output_type": "stream",
          "name": "stdout",
          "text": [
            "Video video writer\n",
            "Video video writer\n"
          ]
        },
        {
          "output_type": "stream",
          "name": "stderr",
          "text": [
            "\n",
            " 39%|███▉      | 270/688 [00:09<00:14, 28.20it/s]\u001b[A"
          ]
        },
        {
          "output_type": "stream",
          "name": "stdout",
          "text": [
            "Video video writer\n",
            "Video video writer\n",
            "Video video writer\n",
            "Video video writer\n"
          ]
        },
        {
          "output_type": "stream",
          "name": "stderr",
          "text": [
            "\n",
            " 40%|███▉      | 273/688 [00:09<00:15, 27.57it/s]\u001b[A"
          ]
        },
        {
          "output_type": "stream",
          "name": "stdout",
          "text": [
            "Video video writer\n",
            "Video video writer\n",
            "Video video writer\n",
            "Video video writer\n"
          ]
        },
        {
          "output_type": "stream",
          "name": "stderr",
          "text": [
            "\n",
            " 40%|████      | 276/688 [00:09<00:17, 23.77it/s]\u001b[A"
          ]
        },
        {
          "output_type": "stream",
          "name": "stdout",
          "text": [
            "Video video writer\n",
            "Video video writer\n"
          ]
        },
        {
          "output_type": "stream",
          "name": "stderr",
          "text": [
            "\n",
            " 41%|████      | 279/688 [00:09<00:19, 21.45it/s]\u001b[A"
          ]
        },
        {
          "output_type": "stream",
          "name": "stdout",
          "text": [
            "Video video writer\n",
            "Video video writer\n",
            "Video video writer\n",
            "Video video writer\n"
          ]
        },
        {
          "output_type": "stream",
          "name": "stderr",
          "text": [
            "\n",
            " 41%|████      | 282/688 [00:10<00:20, 20.00it/s]\u001b[A"
          ]
        },
        {
          "output_type": "stream",
          "name": "stdout",
          "text": [
            "Video video writer\n",
            "Video video writer\n"
          ]
        },
        {
          "output_type": "stream",
          "name": "stderr",
          "text": [
            "\n",
            " 41%|████▏     | 285/688 [00:10<00:20, 19.21it/s]\u001b[A"
          ]
        },
        {
          "output_type": "stream",
          "name": "stdout",
          "text": [
            "Video video writer\n",
            "Video video writer\n"
          ]
        },
        {
          "output_type": "stream",
          "name": "stderr",
          "text": [
            "\n",
            " 42%|████▏     | 287/688 [00:10<00:21, 18.69it/s]\u001b[A"
          ]
        },
        {
          "output_type": "stream",
          "name": "stdout",
          "text": [
            "Video video writer\n",
            "Video video writer\n"
          ]
        },
        {
          "output_type": "stream",
          "name": "stderr",
          "text": [
            "\n",
            " 42%|████▏     | 289/688 [00:10<00:21, 18.25it/s]\u001b[A"
          ]
        },
        {
          "output_type": "stream",
          "name": "stdout",
          "text": [
            "Video video writer\n",
            "Video video writer\n"
          ]
        },
        {
          "output_type": "stream",
          "name": "stderr",
          "text": [
            "\n",
            " 42%|████▏     | 291/688 [00:10<00:22, 17.47it/s]\u001b[A"
          ]
        },
        {
          "output_type": "stream",
          "name": "stdout",
          "text": [
            "Video video writer\n",
            "Video video writer\n"
          ]
        },
        {
          "output_type": "stream",
          "name": "stderr",
          "text": [
            "\n",
            " 43%|████▎     | 293/688 [00:10<00:23, 17.00it/s]\u001b[A"
          ]
        },
        {
          "output_type": "stream",
          "name": "stdout",
          "text": [
            "Video video writer\n",
            "Video video writer\n"
          ]
        },
        {
          "output_type": "stream",
          "name": "stderr",
          "text": [
            "\n",
            " 43%|████▎     | 295/688 [00:10<00:23, 16.90it/s]\u001b[A"
          ]
        },
        {
          "output_type": "stream",
          "name": "stdout",
          "text": [
            "Video video writer\n",
            "Video video writer\n"
          ]
        },
        {
          "output_type": "stream",
          "name": "stderr",
          "text": [
            "\n",
            " 43%|████▎     | 297/688 [00:11<00:23, 16.70it/s]\u001b[A"
          ]
        },
        {
          "output_type": "stream",
          "name": "stdout",
          "text": [
            "Video video writer\n",
            "Video video writer\n"
          ]
        },
        {
          "output_type": "stream",
          "name": "stderr",
          "text": [
            "\n",
            " 43%|████▎     | 299/688 [00:11<00:23, 16.66it/s]\u001b[A"
          ]
        },
        {
          "output_type": "stream",
          "name": "stdout",
          "text": [
            "Video video writer\n",
            "Video video writer\n"
          ]
        },
        {
          "output_type": "stream",
          "name": "stderr",
          "text": [
            "\n",
            " 44%|████▍     | 301/688 [00:11<00:23, 16.72it/s]\u001b[A"
          ]
        },
        {
          "output_type": "stream",
          "name": "stdout",
          "text": [
            "Video video writer\n",
            "Video video writer\n"
          ]
        },
        {
          "output_type": "stream",
          "name": "stderr",
          "text": [
            "\n",
            " 44%|████▍     | 303/688 [00:11<00:23, 16.61it/s]\u001b[A"
          ]
        },
        {
          "output_type": "stream",
          "name": "stdout",
          "text": [
            "Video video writer\n",
            "Video video writer\n"
          ]
        },
        {
          "output_type": "stream",
          "name": "stderr",
          "text": [
            "\n",
            " 44%|████▍     | 305/688 [00:11<00:23, 16.39it/s]\u001b[A"
          ]
        },
        {
          "output_type": "stream",
          "name": "stdout",
          "text": [
            "Video video writer\n",
            "Video video writer\n"
          ]
        },
        {
          "output_type": "stream",
          "name": "stderr",
          "text": [
            "\n",
            " 45%|████▍     | 307/688 [00:11<00:22, 16.79it/s]\u001b[A"
          ]
        },
        {
          "output_type": "stream",
          "name": "stdout",
          "text": [
            "Video video writer\n",
            "Video video writer\n"
          ]
        },
        {
          "output_type": "stream",
          "name": "stderr",
          "text": [
            "\n",
            " 45%|████▍     | 309/688 [00:11<00:22, 16.93it/s]\u001b[A"
          ]
        },
        {
          "output_type": "stream",
          "name": "stdout",
          "text": [
            "Video video writer\n",
            "Video video writer\n"
          ]
        },
        {
          "output_type": "stream",
          "name": "stderr",
          "text": [
            "\n",
            " 45%|████▌     | 311/688 [00:11<00:22, 16.88it/s]\u001b[A"
          ]
        },
        {
          "output_type": "stream",
          "name": "stdout",
          "text": [
            "Video video writer\n",
            "Video video writer\n"
          ]
        },
        {
          "output_type": "stream",
          "name": "stderr",
          "text": [
            "\n",
            " 45%|████▌     | 313/688 [00:11<00:22, 16.63it/s]\u001b[A"
          ]
        },
        {
          "output_type": "stream",
          "name": "stdout",
          "text": [
            "Video video writer\n",
            "Video video writer\n"
          ]
        },
        {
          "output_type": "stream",
          "name": "stderr",
          "text": [
            "\n",
            " 46%|████▌     | 315/688 [00:12<00:22, 16.26it/s]\u001b[A"
          ]
        },
        {
          "output_type": "stream",
          "name": "stdout",
          "text": [
            "Video video writer\n",
            "Video video writer\n"
          ]
        },
        {
          "output_type": "stream",
          "name": "stderr",
          "text": [
            "\n",
            " 46%|████▌     | 317/688 [00:12<00:22, 16.26it/s]\u001b[A"
          ]
        },
        {
          "output_type": "stream",
          "name": "stdout",
          "text": [
            "Video video writer\n",
            "Video video writer\n"
          ]
        },
        {
          "output_type": "stream",
          "name": "stderr",
          "text": [
            "\n",
            " 46%|████▋     | 319/688 [00:12<00:23, 15.85it/s]\u001b[A"
          ]
        },
        {
          "output_type": "stream",
          "name": "stdout",
          "text": [
            "Video video writer\n",
            "Video video writer\n"
          ]
        },
        {
          "output_type": "stream",
          "name": "stderr",
          "text": [
            "\n",
            " 47%|████▋     | 321/688 [00:12<00:23, 15.94it/s]\u001b[A"
          ]
        },
        {
          "output_type": "stream",
          "name": "stdout",
          "text": [
            "Video video writer\n",
            "Video video writer\n"
          ]
        },
        {
          "output_type": "stream",
          "name": "stderr",
          "text": [
            "\n",
            " 47%|████▋     | 323/688 [00:12<00:22, 16.17it/s]\u001b[A"
          ]
        },
        {
          "output_type": "stream",
          "name": "stdout",
          "text": [
            "Video video writer\n",
            "Video video writer\n"
          ]
        },
        {
          "output_type": "stream",
          "name": "stderr",
          "text": [
            "\n",
            " 47%|████▋     | 325/688 [00:12<00:22, 16.22it/s]\u001b[A"
          ]
        },
        {
          "output_type": "stream",
          "name": "stdout",
          "text": [
            "Video video writer\n",
            "Video video writer\n"
          ]
        },
        {
          "output_type": "stream",
          "name": "stderr",
          "text": [
            "\n",
            " 48%|████▊     | 327/688 [00:12<00:22, 16.20it/s]\u001b[A"
          ]
        },
        {
          "output_type": "stream",
          "name": "stdout",
          "text": [
            "Video video writer\n",
            "Video video writer\n"
          ]
        },
        {
          "output_type": "stream",
          "name": "stderr",
          "text": [
            "\n",
            " 48%|████▊     | 329/688 [00:12<00:22, 16.04it/s]\u001b[A"
          ]
        },
        {
          "output_type": "stream",
          "name": "stdout",
          "text": [
            "Video video writer\n",
            "Video video writer\n"
          ]
        },
        {
          "output_type": "stream",
          "name": "stderr",
          "text": [
            "\n",
            " 48%|████▊     | 331/688 [00:13<00:21, 16.65it/s]\u001b[A"
          ]
        },
        {
          "output_type": "stream",
          "name": "stdout",
          "text": [
            "Video video writer\n",
            "Video video writer\n"
          ]
        },
        {
          "output_type": "stream",
          "name": "stderr",
          "text": [
            "\n",
            " 48%|████▊     | 333/688 [00:13<00:21, 16.50it/s]\u001b[A"
          ]
        },
        {
          "output_type": "stream",
          "name": "stdout",
          "text": [
            "Video video writer\n",
            "Video video writer\n"
          ]
        },
        {
          "output_type": "stream",
          "name": "stderr",
          "text": [
            "\n",
            " 49%|████▊     | 335/688 [00:13<00:20, 16.89it/s]\u001b[A"
          ]
        },
        {
          "output_type": "stream",
          "name": "stdout",
          "text": [
            "Video video writer\n",
            "Video video writer\n"
          ]
        },
        {
          "output_type": "stream",
          "name": "stderr",
          "text": [
            "\n",
            " 49%|████▉     | 337/688 [00:13<00:20, 17.21it/s]\u001b[A"
          ]
        },
        {
          "output_type": "stream",
          "name": "stdout",
          "text": [
            "Video video writer\n",
            "Video video writer\n"
          ]
        },
        {
          "output_type": "stream",
          "name": "stderr",
          "text": [
            "\n",
            " 49%|████▉     | 339/688 [00:13<00:20, 17.41it/s]\u001b[A"
          ]
        },
        {
          "output_type": "stream",
          "name": "stdout",
          "text": [
            "Video video writer\n",
            "Video video writer\n"
          ]
        },
        {
          "output_type": "stream",
          "name": "stderr",
          "text": [
            "\n",
            " 50%|████▉     | 341/688 [00:13<00:19, 17.54it/s]\u001b[A"
          ]
        },
        {
          "output_type": "stream",
          "name": "stdout",
          "text": [
            "Video video writer\n",
            "Video video writer\n"
          ]
        },
        {
          "output_type": "stream",
          "name": "stderr",
          "text": [
            "\n",
            " 50%|████▉     | 343/688 [00:13<00:19, 17.90it/s]\u001b[A"
          ]
        },
        {
          "output_type": "stream",
          "name": "stdout",
          "text": [
            "Video video writer\n",
            "Video video writer\n"
          ]
        },
        {
          "output_type": "stream",
          "name": "stderr",
          "text": [
            "\n",
            " 50%|█████     | 345/688 [00:13<00:19, 18.04it/s]\u001b[A"
          ]
        },
        {
          "output_type": "stream",
          "name": "stdout",
          "text": [
            "Video video writer\n",
            "Video video writer\n"
          ]
        },
        {
          "output_type": "stream",
          "name": "stderr",
          "text": [
            "\n",
            " 50%|█████     | 347/688 [00:14<00:19, 17.34it/s]\u001b[A"
          ]
        },
        {
          "output_type": "stream",
          "name": "stdout",
          "text": [
            "Video video writer\n",
            "Video video writer\n"
          ]
        },
        {
          "output_type": "stream",
          "name": "stderr",
          "text": [
            "\n",
            " 51%|█████     | 349/688 [00:14<00:19, 17.22it/s]\u001b[A"
          ]
        },
        {
          "output_type": "stream",
          "name": "stdout",
          "text": [
            "Video video writer\n",
            "Video video writer\n"
          ]
        },
        {
          "output_type": "stream",
          "name": "stderr",
          "text": [
            "\n",
            " 51%|█████     | 351/688 [00:14<00:19, 17.08it/s]\u001b[A"
          ]
        },
        {
          "output_type": "stream",
          "name": "stdout",
          "text": [
            "Video video writer\n",
            "Video video writer\n"
          ]
        },
        {
          "output_type": "stream",
          "name": "stderr",
          "text": [
            "\n",
            " 51%|█████▏    | 353/688 [00:14<00:19, 17.29it/s]\u001b[A"
          ]
        },
        {
          "output_type": "stream",
          "name": "stdout",
          "text": [
            "Video video writer\n",
            "Video video writer\n"
          ]
        },
        {
          "output_type": "stream",
          "name": "stderr",
          "text": [
            "\n",
            " 52%|█████▏    | 355/688 [00:14<00:18, 17.63it/s]\u001b[A"
          ]
        },
        {
          "output_type": "stream",
          "name": "stdout",
          "text": [
            "Video video writer\n",
            "Video video writer\n"
          ]
        },
        {
          "output_type": "stream",
          "name": "stderr",
          "text": [
            "\n",
            " 52%|█████▏    | 357/688 [00:14<00:18, 17.64it/s]\u001b[A"
          ]
        },
        {
          "output_type": "stream",
          "name": "stdout",
          "text": [
            "Video video writer\n",
            "Video video writer\n"
          ]
        },
        {
          "output_type": "stream",
          "name": "stderr",
          "text": [
            "\n",
            " 52%|█████▏    | 359/688 [00:14<00:18, 17.73it/s]\u001b[A"
          ]
        },
        {
          "output_type": "stream",
          "name": "stdout",
          "text": [
            "Video video writer\n",
            "Video video writer\n"
          ]
        },
        {
          "output_type": "stream",
          "name": "stderr",
          "text": [
            "\n",
            " 52%|█████▏    | 361/688 [00:14<00:18, 17.68it/s]\u001b[A"
          ]
        },
        {
          "output_type": "stream",
          "name": "stdout",
          "text": [
            "Video video writer\n",
            "Video video writer\n"
          ]
        },
        {
          "output_type": "stream",
          "name": "stderr",
          "text": [
            "\n",
            " 53%|█████▎    | 363/688 [00:14<00:18, 17.62it/s]\u001b[A"
          ]
        },
        {
          "output_type": "stream",
          "name": "stdout",
          "text": [
            "Video video writer\n",
            "Video video writer\n"
          ]
        },
        {
          "output_type": "stream",
          "name": "stderr",
          "text": [
            "\n",
            " 53%|█████▎    | 365/688 [00:15<00:18, 17.85it/s]\u001b[A"
          ]
        },
        {
          "output_type": "stream",
          "name": "stdout",
          "text": [
            "Video video writer\n",
            "Video video writer\n"
          ]
        },
        {
          "output_type": "stream",
          "name": "stderr",
          "text": [
            "\n",
            " 53%|█████▎    | 367/688 [00:15<00:17, 17.98it/s]\u001b[A"
          ]
        },
        {
          "output_type": "stream",
          "name": "stdout",
          "text": [
            "Video video writer\n",
            "Video video writer\n",
            "Video video writer\n"
          ]
        },
        {
          "output_type": "stream",
          "name": "stderr",
          "text": [
            "\n",
            " 54%|█████▍    | 370/688 [00:15<00:15, 21.10it/s]\u001b[A"
          ]
        },
        {
          "output_type": "stream",
          "name": "stdout",
          "text": [
            "Video video writer\n",
            "Video video writer\n"
          ]
        },
        {
          "output_type": "stream",
          "name": "stderr",
          "text": [
            "\n",
            " 54%|█████▍    | 373/688 [00:15<00:14, 22.48it/s]\u001b[A"
          ]
        },
        {
          "output_type": "stream",
          "name": "stdout",
          "text": [
            "Video video writer\n",
            "Video video writer\n",
            "Video video writer\n",
            "Video video writer\n"
          ]
        },
        {
          "output_type": "stream",
          "name": "stderr",
          "text": [
            "\n",
            " 55%|█████▍    | 376/688 [00:15<00:12, 24.32it/s]\u001b[A"
          ]
        },
        {
          "output_type": "stream",
          "name": "stdout",
          "text": [
            "Video video writer\n",
            "Video video writer\n"
          ]
        },
        {
          "output_type": "stream",
          "name": "stderr",
          "text": [
            "\n",
            " 55%|█████▌    | 379/688 [00:15<00:11, 25.77it/s]\u001b[A"
          ]
        },
        {
          "output_type": "stream",
          "name": "stdout",
          "text": [
            "Video video writer\n",
            "Video video writer\n",
            "Video video writer\n",
            "Video video writer\n"
          ]
        },
        {
          "output_type": "stream",
          "name": "stderr",
          "text": [
            "\n",
            " 56%|█████▌    | 382/688 [00:15<00:11, 26.78it/s]\u001b[A"
          ]
        },
        {
          "output_type": "stream",
          "name": "stdout",
          "text": [
            "Video video writer\n",
            "Video video writer\n"
          ]
        },
        {
          "output_type": "stream",
          "name": "stderr",
          "text": [
            "\n",
            " 56%|█████▌    | 385/688 [00:15<00:10, 27.69it/s]\u001b[A"
          ]
        },
        {
          "output_type": "stream",
          "name": "stdout",
          "text": [
            "Video video writer\n",
            "Video video writer\n",
            "Video video writer\n",
            "Video video writer\n"
          ]
        },
        {
          "output_type": "stream",
          "name": "stderr",
          "text": [
            "\n",
            " 56%|█████▋    | 388/688 [00:15<00:10, 28.15it/s]\u001b[A"
          ]
        },
        {
          "output_type": "stream",
          "name": "stdout",
          "text": [
            "Video video writer\n",
            "Video video writer\n"
          ]
        },
        {
          "output_type": "stream",
          "name": "stderr",
          "text": [
            "\n",
            " 57%|█████▋    | 391/688 [00:15<00:10, 28.17it/s]\u001b[A"
          ]
        },
        {
          "output_type": "stream",
          "name": "stdout",
          "text": [
            "Video video writer\n",
            "Video video writer\n",
            "Video video writer\n",
            "Video video writer\n"
          ]
        },
        {
          "output_type": "stream",
          "name": "stderr",
          "text": [
            "\n",
            " 57%|█████▋    | 394/688 [00:16<00:10, 27.92it/s]\u001b[A"
          ]
        },
        {
          "output_type": "stream",
          "name": "stdout",
          "text": [
            "Video video writer\n",
            "Video video writer\n"
          ]
        },
        {
          "output_type": "stream",
          "name": "stderr",
          "text": [
            "\n",
            " 58%|█████▊    | 397/688 [00:16<00:10, 27.96it/s]\u001b[A"
          ]
        },
        {
          "output_type": "stream",
          "name": "stdout",
          "text": [
            "Video video writer\n",
            "Video video writer\n",
            "Video video writer\n",
            "Video video writer\n"
          ]
        },
        {
          "output_type": "stream",
          "name": "stderr",
          "text": [
            "\n",
            " 58%|█████▊    | 400/688 [00:16<00:10, 27.35it/s]\u001b[A"
          ]
        },
        {
          "output_type": "stream",
          "name": "stdout",
          "text": [
            "Video video writer\n",
            "Video video writer\n"
          ]
        },
        {
          "output_type": "stream",
          "name": "stderr",
          "text": [
            "\n",
            " 59%|█████▊    | 403/688 [00:16<00:10, 27.18it/s]\u001b[A"
          ]
        },
        {
          "output_type": "stream",
          "name": "stdout",
          "text": [
            "Video video writer\n",
            "Video video writer\n",
            "Video video writer\n",
            "Video video writer\n"
          ]
        },
        {
          "output_type": "stream",
          "name": "stderr",
          "text": [
            "\n",
            " 59%|█████▉    | 406/688 [00:16<00:10, 27.48it/s]\u001b[A"
          ]
        },
        {
          "output_type": "stream",
          "name": "stdout",
          "text": [
            "Video video writer\n",
            "Video video writer\n"
          ]
        },
        {
          "output_type": "stream",
          "name": "stderr",
          "text": [
            "\n",
            " 59%|█████▉    | 409/688 [00:16<00:10, 27.14it/s]\u001b[A"
          ]
        },
        {
          "output_type": "stream",
          "name": "stdout",
          "text": [
            "Video video writer\n",
            "Video video writer\n",
            "Video video writer\n",
            "Video video writer\n"
          ]
        },
        {
          "output_type": "stream",
          "name": "stderr",
          "text": [
            "\n",
            " 60%|█████▉    | 412/688 [00:16<00:10, 27.10it/s]\u001b[A"
          ]
        },
        {
          "output_type": "stream",
          "name": "stdout",
          "text": [
            "Video video writer\n",
            "Video video writer\n"
          ]
        },
        {
          "output_type": "stream",
          "name": "stderr",
          "text": [
            "\n",
            " 60%|██████    | 415/688 [00:16<00:09, 27.61it/s]\u001b[A"
          ]
        },
        {
          "output_type": "stream",
          "name": "stdout",
          "text": [
            "Video video writer\n",
            "Video video writer\n",
            "Video video writer\n",
            "Video video writer\n"
          ]
        },
        {
          "output_type": "stream",
          "name": "stderr",
          "text": [
            "\n",
            " 61%|██████    | 418/688 [00:16<00:09, 27.86it/s]\u001b[A"
          ]
        },
        {
          "output_type": "stream",
          "name": "stdout",
          "text": [
            "Video video writer\n",
            "Video video writer\n"
          ]
        },
        {
          "output_type": "stream",
          "name": "stderr",
          "text": [
            "\n",
            " 61%|██████    | 421/688 [00:17<00:09, 27.87it/s]\u001b[A"
          ]
        },
        {
          "output_type": "stream",
          "name": "stdout",
          "text": [
            "Video video writer\n",
            "Video video writer\n",
            "Video video writer\n",
            "Video video writer\n"
          ]
        },
        {
          "output_type": "stream",
          "name": "stderr",
          "text": [
            "\n",
            " 62%|██████▏   | 424/688 [00:17<00:09, 27.78it/s]\u001b[A"
          ]
        },
        {
          "output_type": "stream",
          "name": "stdout",
          "text": [
            "Video video writer\n",
            "Video video writer\n"
          ]
        },
        {
          "output_type": "stream",
          "name": "stderr",
          "text": [
            "\n",
            " 62%|██████▏   | 427/688 [00:17<00:09, 27.83it/s]\u001b[A"
          ]
        },
        {
          "output_type": "stream",
          "name": "stdout",
          "text": [
            "Video video writer\n",
            "Video video writer\n",
            "Video video writer\n",
            "Video video writer\n"
          ]
        },
        {
          "output_type": "stream",
          "name": "stderr",
          "text": [
            "\n",
            " 62%|██████▎   | 430/688 [00:17<00:09, 27.54it/s]\u001b[A"
          ]
        },
        {
          "output_type": "stream",
          "name": "stdout",
          "text": [
            "Video video writer\n",
            "Video video writer\n"
          ]
        },
        {
          "output_type": "stream",
          "name": "stderr",
          "text": [
            "\n",
            " 63%|██████▎   | 433/688 [00:17<00:09, 27.80it/s]\u001b[A"
          ]
        },
        {
          "output_type": "stream",
          "name": "stdout",
          "text": [
            "Video video writer\n",
            "Video video writer\n",
            "Video video writer\n",
            "Video video writer\n"
          ]
        },
        {
          "output_type": "stream",
          "name": "stderr",
          "text": [
            "\n",
            " 63%|██████▎   | 436/688 [00:17<00:09, 27.71it/s]\u001b[A"
          ]
        },
        {
          "output_type": "stream",
          "name": "stdout",
          "text": [
            "Video video writer\n",
            "Video video writer\n"
          ]
        },
        {
          "output_type": "stream",
          "name": "stderr",
          "text": [
            "\n",
            " 64%|██████▍   | 439/688 [00:17<00:08, 27.95it/s]\u001b[A"
          ]
        },
        {
          "output_type": "stream",
          "name": "stdout",
          "text": [
            "Video video writer\n",
            "Video video writer\n",
            "Video video writer\n",
            "Video video writer\n"
          ]
        },
        {
          "output_type": "stream",
          "name": "stderr",
          "text": [
            "\n",
            " 64%|██████▍   | 442/688 [00:17<00:08, 28.01it/s]\u001b[A"
          ]
        },
        {
          "output_type": "stream",
          "name": "stdout",
          "text": [
            "Video video writer\n",
            "Video video writer\n"
          ]
        },
        {
          "output_type": "stream",
          "name": "stderr",
          "text": [
            "\n",
            " 65%|██████▍   | 445/688 [00:17<00:08, 28.41it/s]\u001b[A"
          ]
        },
        {
          "output_type": "stream",
          "name": "stdout",
          "text": [
            "Video video writer\n",
            "Video video writer\n",
            "Video video writer\n",
            "Video video writer\n"
          ]
        },
        {
          "output_type": "stream",
          "name": "stderr",
          "text": [
            "\n",
            " 65%|██████▌   | 448/688 [00:18<00:08, 28.48it/s]\u001b[A"
          ]
        },
        {
          "output_type": "stream",
          "name": "stdout",
          "text": [
            "Video video writer\n",
            "Video video writer\n"
          ]
        },
        {
          "output_type": "stream",
          "name": "stderr",
          "text": [
            "\n",
            " 66%|██████▌   | 451/688 [00:18<00:08, 28.28it/s]\u001b[A"
          ]
        },
        {
          "output_type": "stream",
          "name": "stdout",
          "text": [
            "Video video writer\n",
            "Video video writer\n",
            "Video video writer\n",
            "Video video writer\n"
          ]
        },
        {
          "output_type": "stream",
          "name": "stderr",
          "text": [
            "\n",
            " 66%|██████▌   | 454/688 [00:18<00:08, 28.00it/s]\u001b[A"
          ]
        },
        {
          "output_type": "stream",
          "name": "stdout",
          "text": [
            "Video video writer\n",
            "Video video writer\n"
          ]
        },
        {
          "output_type": "stream",
          "name": "stderr",
          "text": [
            "\n",
            " 66%|██████▋   | 457/688 [00:18<00:08, 27.22it/s]\u001b[A"
          ]
        },
        {
          "output_type": "stream",
          "name": "stdout",
          "text": [
            "Video video writer\n",
            "Video video writer\n",
            "Video video writer\n",
            "Video video writer\n"
          ]
        },
        {
          "output_type": "stream",
          "name": "stderr",
          "text": [
            "\n",
            " 67%|██████▋   | 460/688 [00:18<00:08, 27.79it/s]\u001b[A"
          ]
        },
        {
          "output_type": "stream",
          "name": "stdout",
          "text": [
            "Video video writer\n",
            "Video video writer\n"
          ]
        },
        {
          "output_type": "stream",
          "name": "stderr",
          "text": [
            "\n",
            " 67%|██████▋   | 463/688 [00:18<00:08, 27.59it/s]\u001b[A"
          ]
        },
        {
          "output_type": "stream",
          "name": "stdout",
          "text": [
            "Video video writer\n",
            "Video video writer\n",
            "Video video writer\n",
            "Video video writer\n"
          ]
        },
        {
          "output_type": "stream",
          "name": "stderr",
          "text": [
            "\n",
            " 68%|██████▊   | 466/688 [00:18<00:08, 27.62it/s]\u001b[A"
          ]
        },
        {
          "output_type": "stream",
          "name": "stdout",
          "text": [
            "Video video writer\n",
            "Video video writer\n"
          ]
        },
        {
          "output_type": "stream",
          "name": "stderr",
          "text": [
            "\n",
            " 68%|██████▊   | 469/688 [00:18<00:07, 27.84it/s]\u001b[A"
          ]
        },
        {
          "output_type": "stream",
          "name": "stdout",
          "text": [
            "Video video writer\n",
            "Video video writer\n",
            "Video video writer\n",
            "Video video writer\n"
          ]
        },
        {
          "output_type": "stream",
          "name": "stderr",
          "text": [
            "\n",
            " 69%|██████▊   | 472/688 [00:18<00:07, 27.78it/s]\u001b[A"
          ]
        },
        {
          "output_type": "stream",
          "name": "stdout",
          "text": [
            "Video video writer\n",
            "Video video writer\n"
          ]
        },
        {
          "output_type": "stream",
          "name": "stderr",
          "text": [
            "\n",
            " 69%|██████▉   | 475/688 [00:19<00:07, 27.50it/s]\u001b[A"
          ]
        },
        {
          "output_type": "stream",
          "name": "stdout",
          "text": [
            "Video video writer\n",
            "Video video writer\n",
            "Video video writer\n",
            "Video video writer\n"
          ]
        },
        {
          "output_type": "stream",
          "name": "stderr",
          "text": [
            "\n",
            " 69%|██████▉   | 478/688 [00:19<00:07, 27.84it/s]\u001b[A"
          ]
        },
        {
          "output_type": "stream",
          "name": "stdout",
          "text": [
            "Video video writer\n",
            "Video video writer\n"
          ]
        },
        {
          "output_type": "stream",
          "name": "stderr",
          "text": [
            "\n",
            " 70%|██████▉   | 481/688 [00:19<00:07, 27.74it/s]\u001b[A"
          ]
        },
        {
          "output_type": "stream",
          "name": "stdout",
          "text": [
            "Video video writer\n",
            "Video video writer\n",
            "Video video writer\n",
            "Video video writer\n"
          ]
        },
        {
          "output_type": "stream",
          "name": "stderr",
          "text": [
            "\n",
            " 70%|███████   | 484/688 [00:19<00:07, 27.88it/s]\u001b[A"
          ]
        },
        {
          "output_type": "stream",
          "name": "stdout",
          "text": [
            "Video video writer\n",
            "Video video writer\n"
          ]
        },
        {
          "output_type": "stream",
          "name": "stderr",
          "text": [
            "\n",
            " 71%|███████   | 487/688 [00:19<00:07, 27.62it/s]\u001b[A"
          ]
        },
        {
          "output_type": "stream",
          "name": "stdout",
          "text": [
            "Video video writer\n",
            "Video video writer\n",
            "Video video writer\n",
            "Video video writer\n"
          ]
        },
        {
          "output_type": "stream",
          "name": "stderr",
          "text": [
            "\n",
            " 71%|███████   | 490/688 [00:19<00:07, 27.74it/s]\u001b[A"
          ]
        },
        {
          "output_type": "stream",
          "name": "stdout",
          "text": [
            "Video video writer\n",
            "Video video writer\n"
          ]
        },
        {
          "output_type": "stream",
          "name": "stderr",
          "text": [
            "\n",
            " 72%|███████▏  | 493/688 [00:19<00:06, 28.03it/s]\u001b[A"
          ]
        },
        {
          "output_type": "stream",
          "name": "stdout",
          "text": [
            "Video video writer\n",
            "Video video writer\n",
            "Video video writer\n",
            "Video video writer\n"
          ]
        },
        {
          "output_type": "stream",
          "name": "stderr",
          "text": [
            "\n",
            " 72%|███████▏  | 496/688 [00:19<00:06, 28.20it/s]\u001b[A"
          ]
        },
        {
          "output_type": "stream",
          "name": "stdout",
          "text": [
            "Video video writer\n",
            "Video video writer\n"
          ]
        },
        {
          "output_type": "stream",
          "name": "stderr",
          "text": [
            "\n",
            " 73%|███████▎  | 499/688 [00:19<00:06, 28.54it/s]\u001b[A"
          ]
        },
        {
          "output_type": "stream",
          "name": "stdout",
          "text": [
            "Video video writer\n",
            "Video video writer\n",
            "Video video writer\n",
            "Video video writer\n"
          ]
        },
        {
          "output_type": "stream",
          "name": "stderr",
          "text": [
            "\n",
            " 73%|███████▎  | 502/688 [00:19<00:06, 28.03it/s]\u001b[A"
          ]
        },
        {
          "output_type": "stream",
          "name": "stdout",
          "text": [
            "Video video writer\n",
            "Video video writer\n"
          ]
        },
        {
          "output_type": "stream",
          "name": "stderr",
          "text": [
            "\n",
            " 74%|███████▎  | 506/688 [00:20<00:06, 29.07it/s]\u001b[A"
          ]
        },
        {
          "output_type": "stream",
          "name": "stdout",
          "text": [
            "Video video writer\n",
            "Video video writer\n",
            "Video video writer\n",
            "Video video writer\n"
          ]
        },
        {
          "output_type": "stream",
          "name": "stderr",
          "text": [
            "\n",
            " 74%|███████▍  | 509/688 [00:20<00:06, 29.11it/s]\u001b[A"
          ]
        },
        {
          "output_type": "stream",
          "name": "stdout",
          "text": [
            "Video video writer\n",
            "Video video writer\n",
            "Video video writer\n"
          ]
        },
        {
          "output_type": "stream",
          "name": "stderr",
          "text": [
            "\n",
            " 74%|███████▍  | 512/688 [00:20<00:06, 28.73it/s]\u001b[A"
          ]
        },
        {
          "output_type": "stream",
          "name": "stdout",
          "text": [
            "Video video writer\n",
            "Video video writer\n",
            "Video video writer\n"
          ]
        },
        {
          "output_type": "stream",
          "name": "stderr",
          "text": [
            "\n",
            " 75%|███████▍  | 515/688 [00:20<00:06, 28.12it/s]\u001b[A"
          ]
        },
        {
          "output_type": "stream",
          "name": "stdout",
          "text": [
            "Video video writer\n",
            "Video video writer\n",
            "Video video writer\n"
          ]
        },
        {
          "output_type": "stream",
          "name": "stderr",
          "text": [
            "\n",
            " 75%|███████▌  | 518/688 [00:20<00:06, 28.28it/s]\u001b[A"
          ]
        },
        {
          "output_type": "stream",
          "name": "stdout",
          "text": [
            "Video video writer\n",
            "Video video writer\n",
            "Video video writer\n"
          ]
        },
        {
          "output_type": "stream",
          "name": "stderr",
          "text": [
            "\n",
            " 76%|███████▌  | 521/688 [00:20<00:05, 28.61it/s]\u001b[A"
          ]
        },
        {
          "output_type": "stream",
          "name": "stdout",
          "text": [
            "Video video writer\n",
            "Video video writer\n",
            "Video video writer\n"
          ]
        },
        {
          "output_type": "stream",
          "name": "stderr",
          "text": [
            "\n",
            " 76%|███████▌  | 524/688 [00:20<00:05, 28.86it/s]\u001b[A"
          ]
        },
        {
          "output_type": "stream",
          "name": "stdout",
          "text": [
            "Video video writer\n",
            "Video video writer\n",
            "Video video writer\n",
            "Video video writer\n"
          ]
        },
        {
          "output_type": "stream",
          "name": "stderr",
          "text": [
            "\n",
            " 77%|███████▋  | 527/688 [00:20<00:05, 29.17it/s]\u001b[A"
          ]
        },
        {
          "output_type": "stream",
          "name": "stdout",
          "text": [
            "Video video writer\n",
            "Video video writer\n"
          ]
        },
        {
          "output_type": "stream",
          "name": "stderr",
          "text": [
            "\n",
            " 77%|███████▋  | 531/688 [00:20<00:05, 29.98it/s]\u001b[A"
          ]
        },
        {
          "output_type": "stream",
          "name": "stdout",
          "text": [
            "Video video writer\n",
            "Video video writer\n",
            "Video video writer\n",
            "Video video writer\n",
            "Video video writer\n"
          ]
        },
        {
          "output_type": "stream",
          "name": "stderr",
          "text": [
            "\n",
            " 78%|███████▊  | 534/688 [00:21<00:05, 29.35it/s]\u001b[A"
          ]
        },
        {
          "output_type": "stream",
          "name": "stdout",
          "text": [
            "Video video writer\n",
            "Video video writer\n"
          ]
        },
        {
          "output_type": "stream",
          "name": "stderr",
          "text": [
            "\n",
            " 78%|███████▊  | 537/688 [00:21<00:05, 29.51it/s]\u001b[A"
          ]
        },
        {
          "output_type": "stream",
          "name": "stdout",
          "text": [
            "Video video writer\n",
            "Video video writer\n",
            "Video video writer\n",
            "Video video writer\n"
          ]
        },
        {
          "output_type": "stream",
          "name": "stderr",
          "text": [
            "\n",
            " 78%|███████▊  | 540/688 [00:21<00:05, 29.49it/s]\u001b[A"
          ]
        },
        {
          "output_type": "stream",
          "name": "stdout",
          "text": [
            "Video video writer\n",
            "Video video writer\n"
          ]
        },
        {
          "output_type": "stream",
          "name": "stderr",
          "text": [
            "\n",
            " 79%|███████▉  | 543/688 [00:21<00:04, 29.33it/s]\u001b[A"
          ]
        },
        {
          "output_type": "stream",
          "name": "stdout",
          "text": [
            "Video video writer\n",
            "Video video writer\n",
            "Video video writer\n",
            "Video video writer\n"
          ]
        },
        {
          "output_type": "stream",
          "name": "stderr",
          "text": [
            "\n",
            " 79%|███████▉  | 546/688 [00:21<00:04, 28.92it/s]\u001b[A"
          ]
        },
        {
          "output_type": "stream",
          "name": "stdout",
          "text": [
            "Video video writer\n",
            "Video video writer\n"
          ]
        },
        {
          "output_type": "stream",
          "name": "stderr",
          "text": [
            "\n",
            " 80%|███████▉  | 549/688 [00:21<00:04, 28.56it/s]\u001b[A"
          ]
        },
        {
          "output_type": "stream",
          "name": "stdout",
          "text": [
            "Video video writer\n",
            "Video video writer\n",
            "Video video writer\n",
            "Video video writer\n"
          ]
        },
        {
          "output_type": "stream",
          "name": "stderr",
          "text": [
            "\n",
            " 80%|████████  | 552/688 [00:21<00:04, 28.69it/s]\u001b[A"
          ]
        },
        {
          "output_type": "stream",
          "name": "stdout",
          "text": [
            "Video video writer\n",
            "Video video writer\n"
          ]
        },
        {
          "output_type": "stream",
          "name": "stderr",
          "text": [
            "\n",
            " 81%|████████  | 556/688 [00:21<00:04, 29.67it/s]\u001b[A"
          ]
        },
        {
          "output_type": "stream",
          "name": "stdout",
          "text": [
            "Video video writer\n",
            "Video video writer\n",
            "Video video writer\n",
            "Video video writer\n",
            "Video video writer\n"
          ]
        },
        {
          "output_type": "stream",
          "name": "stderr",
          "text": [
            "\n",
            " 81%|████████▏ | 559/688 [00:21<00:04, 29.51it/s]\u001b[A"
          ]
        },
        {
          "output_type": "stream",
          "name": "stdout",
          "text": [
            "Video video writer\n",
            "Video video writer\n"
          ]
        },
        {
          "output_type": "stream",
          "name": "stderr",
          "text": [
            "\n",
            " 82%|████████▏ | 562/688 [00:22<00:04, 28.31it/s]\u001b[A"
          ]
        },
        {
          "output_type": "stream",
          "name": "stdout",
          "text": [
            "Video video writer\n",
            "Video video writer\n",
            "Video video writer\n",
            "Video video writer\n"
          ]
        },
        {
          "output_type": "stream",
          "name": "stderr",
          "text": [
            "\n",
            " 82%|████████▏ | 565/688 [00:22<00:04, 28.56it/s]\u001b[A"
          ]
        },
        {
          "output_type": "stream",
          "name": "stdout",
          "text": [
            "Video video writer\n",
            "Video video writer\n"
          ]
        },
        {
          "output_type": "stream",
          "name": "stderr",
          "text": [
            "\n",
            " 83%|████████▎ | 568/688 [00:22<00:04, 28.60it/s]\u001b[A"
          ]
        },
        {
          "output_type": "stream",
          "name": "stdout",
          "text": [
            "Video video writer\n",
            "Video video writer\n",
            "Video video writer\n",
            "Video video writer\n"
          ]
        },
        {
          "output_type": "stream",
          "name": "stderr",
          "text": [
            "\n",
            " 83%|████████▎ | 572/688 [00:22<00:03, 29.49it/s]\u001b[A"
          ]
        },
        {
          "output_type": "stream",
          "name": "stdout",
          "text": [
            "Video video writer\n",
            "Video video writer\n",
            "Video video writer\n"
          ]
        },
        {
          "output_type": "stream",
          "name": "stderr",
          "text": [
            "\n",
            " 84%|████████▎ | 575/688 [00:22<00:03, 28.76it/s]\u001b[A"
          ]
        },
        {
          "output_type": "stream",
          "name": "stdout",
          "text": [
            "Video video writer\n",
            "Video video writer\n",
            "Video video writer\n"
          ]
        },
        {
          "output_type": "stream",
          "name": "stderr",
          "text": [
            "\n",
            " 84%|████████▍ | 578/688 [00:22<00:03, 28.86it/s]\u001b[A"
          ]
        },
        {
          "output_type": "stream",
          "name": "stdout",
          "text": [
            "Video video writer\n",
            "Video video writer\n",
            "Video video writer\n"
          ]
        },
        {
          "output_type": "stream",
          "name": "stderr",
          "text": [
            "\n",
            " 84%|████████▍ | 581/688 [00:22<00:03, 28.68it/s]\u001b[A"
          ]
        },
        {
          "output_type": "stream",
          "name": "stdout",
          "text": [
            "Video video writer\n",
            "Video video writer\n",
            "Video video writer\n"
          ]
        },
        {
          "output_type": "stream",
          "name": "stderr",
          "text": [
            "\n",
            " 85%|████████▍ | 584/688 [00:22<00:03, 28.60it/s]\u001b[A"
          ]
        },
        {
          "output_type": "stream",
          "name": "stdout",
          "text": [
            "Video video writer\n",
            "Video video writer\n",
            "Video video writer\n"
          ]
        },
        {
          "output_type": "stream",
          "name": "stderr",
          "text": [
            "\n",
            " 85%|████████▌ | 587/688 [00:22<00:03, 28.89it/s]\u001b[A"
          ]
        },
        {
          "output_type": "stream",
          "name": "stdout",
          "text": [
            "Video video writer\n",
            "Video video writer\n",
            "Video video writer\n"
          ]
        },
        {
          "output_type": "stream",
          "name": "stderr",
          "text": [
            "\n",
            " 86%|████████▌ | 590/688 [00:23<00:03, 28.92it/s]\u001b[A"
          ]
        },
        {
          "output_type": "stream",
          "name": "stdout",
          "text": [
            "Video video writer\n",
            "Video video writer\n",
            "Video video writer\n"
          ]
        },
        {
          "output_type": "stream",
          "name": "stderr",
          "text": [
            "\n",
            " 86%|████████▌ | 593/688 [00:23<00:03, 29.07it/s]\u001b[A"
          ]
        },
        {
          "output_type": "stream",
          "name": "stdout",
          "text": [
            "Video video writer\n",
            "Video video writer\n",
            "Video video writer\n"
          ]
        },
        {
          "output_type": "stream",
          "name": "stderr",
          "text": [
            "\n",
            " 87%|████████▋ | 596/688 [00:23<00:03, 28.49it/s]\u001b[A"
          ]
        },
        {
          "output_type": "stream",
          "name": "stdout",
          "text": [
            "Video video writer\n",
            "Video video writer\n",
            "Video video writer\n"
          ]
        },
        {
          "output_type": "stream",
          "name": "stderr",
          "text": [
            "\n",
            " 87%|████████▋ | 599/688 [00:23<00:03, 28.26it/s]\u001b[A"
          ]
        },
        {
          "output_type": "stream",
          "name": "stdout",
          "text": [
            "Video video writer\n",
            "Video video writer\n",
            "Video video writer\n"
          ]
        },
        {
          "output_type": "stream",
          "name": "stderr",
          "text": [
            "\n",
            " 88%|████████▊ | 602/688 [00:23<00:03, 28.51it/s]\u001b[A"
          ]
        },
        {
          "output_type": "stream",
          "name": "stdout",
          "text": [
            "Video video writer\n",
            "Video video writer\n",
            "Video video writer\n"
          ]
        },
        {
          "output_type": "stream",
          "name": "stderr",
          "text": [
            "\n",
            " 88%|████████▊ | 605/688 [00:23<00:02, 28.20it/s]\u001b[A"
          ]
        },
        {
          "output_type": "stream",
          "name": "stdout",
          "text": [
            "Video video writer\n",
            "Video video writer\n",
            "Video video writer\n"
          ]
        },
        {
          "output_type": "stream",
          "name": "stderr",
          "text": [
            "\n",
            " 88%|████████▊ | 608/688 [00:23<00:02, 28.53it/s]\u001b[A"
          ]
        },
        {
          "output_type": "stream",
          "name": "stdout",
          "text": [
            "Video video writer\n",
            "Video video writer\n",
            "Video video writer\n"
          ]
        },
        {
          "output_type": "stream",
          "name": "stderr",
          "text": [
            "\n",
            " 89%|████████▉ | 611/688 [00:23<00:02, 28.23it/s]\u001b[A"
          ]
        },
        {
          "output_type": "stream",
          "name": "stdout",
          "text": [
            "Video video writer\n",
            "Video video writer\n",
            "Video video writer\n"
          ]
        },
        {
          "output_type": "stream",
          "name": "stderr",
          "text": [
            "\n",
            " 89%|████████▉ | 614/688 [00:23<00:02, 28.59it/s]\u001b[A"
          ]
        },
        {
          "output_type": "stream",
          "name": "stdout",
          "text": [
            "Video video writer\n",
            "Video video writer\n",
            "Video video writer\n"
          ]
        },
        {
          "output_type": "stream",
          "name": "stderr",
          "text": [
            "\n",
            " 90%|████████▉ | 618/688 [00:23<00:02, 29.55it/s]\u001b[A"
          ]
        },
        {
          "output_type": "stream",
          "name": "stdout",
          "text": [
            "Video video writer\n",
            "Video video writer\n",
            "Video video writer\n",
            "Video video writer\n"
          ]
        },
        {
          "output_type": "stream",
          "name": "stderr",
          "text": [
            "\n",
            " 90%|█████████ | 621/688 [00:24<00:02, 29.55it/s]\u001b[A"
          ]
        },
        {
          "output_type": "stream",
          "name": "stdout",
          "text": [
            "Video video writer\n",
            "Video video writer\n",
            "Video video writer\n"
          ]
        },
        {
          "output_type": "stream",
          "name": "stderr",
          "text": [
            "\n",
            " 91%|█████████ | 624/688 [00:24<00:02, 29.44it/s]\u001b[A"
          ]
        },
        {
          "output_type": "stream",
          "name": "stdout",
          "text": [
            "Video video writer\n",
            "Video video writer\n",
            "Video video writer\n",
            "Video video writer\n"
          ]
        },
        {
          "output_type": "stream",
          "name": "stderr",
          "text": [
            "\n",
            " 91%|█████████▏| 628/688 [00:24<00:02, 29.94it/s]\u001b[A"
          ]
        },
        {
          "output_type": "stream",
          "name": "stdout",
          "text": [
            "Video video writer\n",
            "Video video writer\n",
            "Video video writer\n"
          ]
        },
        {
          "output_type": "stream",
          "name": "stderr",
          "text": [
            "\n",
            " 92%|█████████▏| 631/688 [00:24<00:01, 29.83it/s]\u001b[A"
          ]
        },
        {
          "output_type": "stream",
          "name": "stdout",
          "text": [
            "Video video writer\n",
            "Video video writer\n",
            "Video video writer\n"
          ]
        },
        {
          "output_type": "stream",
          "name": "stderr",
          "text": [
            "\n",
            " 92%|█████████▏| 634/688 [00:24<00:01, 28.96it/s]\u001b[A"
          ]
        },
        {
          "output_type": "stream",
          "name": "stdout",
          "text": [
            "Video video writer\n",
            "Video video writer\n",
            "Video video writer\n"
          ]
        },
        {
          "output_type": "stream",
          "name": "stderr",
          "text": [
            "\n",
            " 93%|█████████▎| 637/688 [00:24<00:01, 29.00it/s]\u001b[A"
          ]
        },
        {
          "output_type": "stream",
          "name": "stdout",
          "text": [
            "Video video writer\n",
            "Video video writer\n",
            "Video video writer\n"
          ]
        },
        {
          "output_type": "stream",
          "name": "stderr",
          "text": [
            "\n",
            " 93%|█████████▎| 640/688 [00:24<00:01, 27.12it/s]\u001b[A"
          ]
        },
        {
          "output_type": "stream",
          "name": "stdout",
          "text": [
            "Video video writer\n",
            "Video video writer\n",
            "Video video writer\n"
          ]
        },
        {
          "output_type": "stream",
          "name": "stderr",
          "text": [
            "\n",
            " 93%|█████████▎| 643/688 [00:24<00:01, 27.15it/s]\u001b[A"
          ]
        },
        {
          "output_type": "stream",
          "name": "stdout",
          "text": [
            "Video video writer\n",
            "Video video writer\n",
            "Video video writer\n"
          ]
        },
        {
          "output_type": "stream",
          "name": "stderr",
          "text": [
            "\n",
            " 94%|█████████▍| 646/688 [00:24<00:01, 27.44it/s]\u001b[A"
          ]
        },
        {
          "output_type": "stream",
          "name": "stdout",
          "text": [
            "Video video writer\n",
            "Video video writer\n",
            "Video video writer\n"
          ]
        },
        {
          "output_type": "stream",
          "name": "stderr",
          "text": [
            "\n",
            " 94%|█████████▍| 649/688 [00:25<00:01, 27.73it/s]\u001b[A"
          ]
        },
        {
          "output_type": "stream",
          "name": "stdout",
          "text": [
            "Video video writer\n",
            "Video video writer\n",
            "Video video writer\n"
          ]
        },
        {
          "output_type": "stream",
          "name": "stderr",
          "text": [
            "\n"
          ]
        },
        {
          "output_type": "stream",
          "name": "stdout",
          "text": [
            "Video video writer\n",
            "Video video writer\n",
            "Video video writer\n"
          ]
        },
        {
          "output_type": "stream",
          "name": "stderr",
          "text": [
            "\r 95%|█████████▍| 652/688 [00:25<00:01, 25.51it/s]\u001b[A"
          ]
        },
        {
          "output_type": "stream",
          "name": "stdout",
          "text": [
            "Video video writer\n"
          ]
        },
        {
          "output_type": "stream",
          "name": "stderr",
          "text": [
            "\n",
            " 95%|█████████▌| 655/688 [00:25<00:01, 22.81it/s]\u001b[A"
          ]
        },
        {
          "output_type": "stream",
          "name": "stdout",
          "text": [
            "Video video writer\n",
            "Video video writer\n",
            "Video video writer\n",
            "Video video writer\n"
          ]
        },
        {
          "output_type": "stream",
          "name": "stderr",
          "text": [
            "\n",
            " 96%|█████████▌| 658/688 [00:25<00:01, 21.03it/s]\u001b[A"
          ]
        },
        {
          "output_type": "stream",
          "name": "stdout",
          "text": [
            "Video video writer\n",
            "Video video writer\n",
            "Video video writer\n"
          ]
        },
        {
          "output_type": "stream",
          "name": "stderr",
          "text": [
            "\n",
            " 96%|█████████▌| 661/688 [00:25<00:01, 20.48it/s]\u001b[A"
          ]
        },
        {
          "output_type": "stream",
          "name": "stdout",
          "text": [
            "Video video writer\n"
          ]
        },
        {
          "output_type": "stream",
          "name": "stderr",
          "text": [
            "\n",
            " 97%|█████████▋| 664/688 [00:25<00:01, 19.23it/s]\u001b[A"
          ]
        },
        {
          "output_type": "stream",
          "name": "stdout",
          "text": [
            "Video video writer\n",
            "Video video writer\n",
            "Video video writer\n",
            "Video video writer\n"
          ]
        },
        {
          "output_type": "stream",
          "name": "stderr",
          "text": [
            "\n",
            " 97%|█████████▋| 666/688 [00:26<00:01, 18.90it/s]\u001b[A\n",
            " 97%|█████████▋| 668/688 [00:26<00:01, 18.80it/s]\u001b[A"
          ]
        },
        {
          "output_type": "stream",
          "name": "stdout",
          "text": [
            "Video video writer\n",
            "Video video writer\n",
            "Video video writer\n",
            "Video video writer\n"
          ]
        },
        {
          "output_type": "stream",
          "name": "stderr",
          "text": [
            "\n",
            " 97%|█████████▋| 670/688 [00:26<00:00, 18.56it/s]\u001b[A\n",
            " 98%|█████████▊| 672/688 [00:26<00:00, 18.53it/s]\u001b[A"
          ]
        },
        {
          "output_type": "stream",
          "name": "stdout",
          "text": [
            "Video video writer\n",
            "Video video writer\n",
            "Video video writer\n",
            "Video video writer\n"
          ]
        },
        {
          "output_type": "stream",
          "name": "stderr",
          "text": [
            "\n",
            " 98%|█████████▊| 674/688 [00:26<00:00, 17.56it/s]\u001b[A"
          ]
        },
        {
          "output_type": "stream",
          "name": "stdout",
          "text": [
            "Video video writer\n",
            "Video video writer\n"
          ]
        },
        {
          "output_type": "stream",
          "name": "stderr",
          "text": [
            "\n",
            " 98%|█████████▊| 676/688 [00:26<00:00, 16.67it/s]\u001b[A"
          ]
        },
        {
          "output_type": "stream",
          "name": "stdout",
          "text": [
            "Video video writer\n",
            "Video video writer"
          ]
        },
        {
          "output_type": "stream",
          "name": "stderr",
          "text": [
            "\n",
            " 99%|█████████▊| 678/688 [00:26<00:00, 16.65it/s]\u001b[A"
          ]
        },
        {
          "output_type": "stream",
          "name": "stdout",
          "text": [
            "\n",
            "Video video writer\n",
            "Video video writer\n"
          ]
        },
        {
          "output_type": "stream",
          "name": "stderr",
          "text": [
            "\n",
            " 99%|█████████▉| 680/688 [00:26<00:00, 17.40it/s]\u001b[A"
          ]
        },
        {
          "output_type": "stream",
          "name": "stdout",
          "text": [
            "Video video writer\n"
          ]
        },
        {
          "output_type": "stream",
          "name": "stderr",
          "text": [
            "\n",
            " 99%|█████████▉| 682/688 [00:26<00:00, 17.77it/s]\u001b[A"
          ]
        },
        {
          "output_type": "stream",
          "name": "stdout",
          "text": [
            "Video video writer\n",
            "Video video writer\n",
            "Video video writer\n"
          ]
        },
        {
          "output_type": "stream",
          "name": "stderr",
          "text": [
            "\n",
            " 99%|█████████▉| 684/688 [00:27<00:00, 17.82it/s]\u001b[A"
          ]
        },
        {
          "output_type": "stream",
          "name": "stdout",
          "text": [
            "Video video writer\n"
          ]
        },
        {
          "output_type": "stream",
          "name": "stderr",
          "text": [
            "\n",
            "100%|█████████▉| 686/688 [00:27<00:00, 18.01it/s]\u001b[A"
          ]
        },
        {
          "output_type": "stream",
          "name": "stdout",
          "text": [
            "Video video writer\n",
            "Video video writer\n",
            "Video video writer\n"
          ]
        },
        {
          "output_type": "stream",
          "name": "stderr",
          "text": [
            "\n",
            "100%|██████████| 688/688 [00:27<00:00, 25.24it/s]"
          ]
        },
        {
          "output_type": "stream",
          "name": "stdout",
          "text": [
            "Video video writer\n"
          ]
        },
        {
          "output_type": "stream",
          "name": "stderr",
          "text": [
            "\n",
            "100%|██████████| 1/1 [00:39<00:00, 39.16s/it]"
          ]
        },
        {
          "output_type": "stream",
          "name": "stdout",
          "text": [
            "Video upscaling complete.\n"
          ]
        },
        {
          "output_type": "stream",
          "name": "stderr",
          "text": [
            "\n"
          ]
        }
      ]
    },
    {
      "cell_type": "markdown",
      "source": [
        "# put the audio on the enhance video.\n",
        "after enhancing each frame one by one it lost its audio so lets just put the audio on the enhanced video."
      ],
      "metadata": {
        "id": "ps3CBhdbqBNa"
      }
    },
    {
      "cell_type": "code",
      "source": [
        "from moviepy.editor import VideoFileClip, AudioFileClip\n",
        "\n",
        "def add_audio_to_video(video_path, audio_path, output_path):\n",
        "    # Load the video clip\n",
        "    video_clip = VideoFileClip(video_path)\n",
        "\n",
        "    # Load the audio clip\n",
        "    audio_clip = AudioFileClip(audio_path)\n",
        "\n",
        "    # Set the video clip's audio to the loaded audio clip\n",
        "    video_clip = video_clip.set_audio(audio_clip)\n",
        "\n",
        "    # Write the result to a file\n",
        "    video_clip.write_videofile(output_path, codec=\"libx264\", audio_codec=\"aac\")\n",
        "\n",
        "video_path = \"/content/outputs/output_0000.mp4\"\n",
        "audio_path = \"/content/inputs/input_audio.mp3\"\n",
        "output_path = \"/content/outputs/output_video.mp4\"\n",
        "\n",
        "add_audio_to_video(video_path, audio_path, output_path)"
      ],
      "metadata": {
        "colab": {
          "base_uri": "https://localhost:8080/"
        },
        "id": "YPgc4YdEpzOc",
        "outputId": "8c5a853b-1c48-4035-8b63-91db168d35dd"
      },
      "execution_count": 6,
      "outputs": [
        {
          "output_type": "stream",
          "name": "stdout",
          "text": [
            "Moviepy - Building video /content/outputs/output_video.mp4.\n",
            "MoviePy - Writing audio in output_videoTEMP_MPY_wvf_snd.mp4\n"
          ]
        },
        {
          "output_type": "stream",
          "name": "stderr",
          "text": []
        },
        {
          "output_type": "stream",
          "name": "stdout",
          "text": [
            "MoviePy - Done.\n",
            "Moviepy - Writing video /content/outputs/output_video.mp4\n",
            "\n"
          ]
        },
        {
          "output_type": "stream",
          "name": "stderr",
          "text": []
        },
        {
          "output_type": "stream",
          "name": "stdout",
          "text": [
            "Moviepy - Done !\n",
            "Moviepy - video ready /content/outputs/output_video.mp4\n"
          ]
        }
      ]
    }
  ]
}